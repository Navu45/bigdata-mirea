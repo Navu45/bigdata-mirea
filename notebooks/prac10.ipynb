{
 "cells": [
  {
   "cell_type": "code",
   "execution_count": 127,
   "outputs": [
    {
     "name": "stderr",
     "output_type": "stream",
     "text": [
      "C:\\Users\\Alexey\\anaconda3\\envs\\bigdata1\\lib\\site-packages\\sklearn\\datasets\\_openml.py:292: UserWarning: Multiple active versions of the dataset matching the name credit-g exist. Versions may be fundamentally different, returning version 1.\n",
      "  warn(\n"
     ]
    }
   ],
   "source": [
    "import numpy as np\n",
    "import pandas as pd\n",
    "from matplotlib import pyplot as plt\n",
    "from sklearn.datasets import fetch_openml\n",
    "from sklearn.metrics import confusion_matrix\n",
    "import seaborn as sns\n",
    "\n",
    "data = fetch_openml(name='credit-g', as_frame=True)"
   ],
   "metadata": {
    "collapsed": false
   }
  },
  {
   "cell_type": "code",
   "execution_count": 128,
   "outputs": [
    {
     "data": {
      "text/plain": "    checking_status  duration                  credit_history  \\\n0                <0       6.0  critical/other existing credit   \n1          0<=X<200      48.0                   existing paid   \n2       no checking      12.0  critical/other existing credit   \n3                <0      42.0                   existing paid   \n4                <0      24.0              delayed previously   \n..              ...       ...                             ...   \n995     no checking      12.0                   existing paid   \n996              <0      30.0                   existing paid   \n997     no checking      12.0                   existing paid   \n998              <0      45.0                   existing paid   \n999        0<=X<200      45.0  critical/other existing credit   \n\n                 purpose  credit_amount    savings_status  employment  \\\n0               radio/tv         1169.0  no known savings         >=7   \n1               radio/tv         5951.0              <100      1<=X<4   \n2              education         2096.0              <100      4<=X<7   \n3    furniture/equipment         7882.0              <100      4<=X<7   \n4                new car         4870.0              <100      1<=X<4   \n..                   ...            ...               ...         ...   \n995  furniture/equipment         1736.0              <100      4<=X<7   \n996             used car         3857.0              <100      1<=X<4   \n997             radio/tv          804.0              <100         >=7   \n998             radio/tv         1845.0              <100      1<=X<4   \n999             used car         4576.0        100<=X<500  unemployed   \n\n     installment_commitment     personal_status other_parties  \\\n0                       4.0         male single          none   \n1                       2.0  female div/dep/mar          none   \n2                       2.0         male single          none   \n3                       2.0         male single     guarantor   \n4                       3.0         male single          none   \n..                      ...                 ...           ...   \n995                     3.0  female div/dep/mar          none   \n996                     4.0        male div/sep          none   \n997                     4.0         male single          none   \n998                     4.0         male single          none   \n999                     3.0         male single          none   \n\n     residence_since property_magnitude   age other_payment_plans   housing  \\\n0                4.0        real estate  67.0                none       own   \n1                2.0        real estate  22.0                none       own   \n2                3.0        real estate  49.0                none       own   \n3                4.0     life insurance  45.0                none  for free   \n4                4.0  no known property  53.0                none  for free   \n..               ...                ...   ...                 ...       ...   \n995              4.0        real estate  31.0                none       own   \n996              4.0     life insurance  40.0                none       own   \n997              4.0                car  38.0                none       own   \n998              4.0  no known property  23.0                none  for free   \n999              4.0                car  27.0                none       own   \n\n     existing_credits                        job  num_dependents  \\\n0                 2.0                    skilled             1.0   \n1                 1.0                    skilled             1.0   \n2                 1.0         unskilled resident             2.0   \n3                 1.0                    skilled             2.0   \n4                 2.0                    skilled             2.0   \n..                ...                        ...             ...   \n995               1.0         unskilled resident             1.0   \n996               1.0  high qualif/self emp/mgmt             1.0   \n997               1.0                    skilled             1.0   \n998               1.0                    skilled             1.0   \n999               1.0                    skilled             1.0   \n\n    own_telephone foreign_worker  \n0             yes            yes  \n1            none            yes  \n2            none            yes  \n3            none            yes  \n4            none            yes  \n..            ...            ...  \n995          none            yes  \n996           yes            yes  \n997          none            yes  \n998           yes            yes  \n999          none            yes  \n\n[1000 rows x 20 columns]",
      "text/html": "<div>\n<style scoped>\n    .dataframe tbody tr th:only-of-type {\n        vertical-align: middle;\n    }\n\n    .dataframe tbody tr th {\n        vertical-align: top;\n    }\n\n    .dataframe thead th {\n        text-align: right;\n    }\n</style>\n<table border=\"1\" class=\"dataframe\">\n  <thead>\n    <tr style=\"text-align: right;\">\n      <th></th>\n      <th>checking_status</th>\n      <th>duration</th>\n      <th>credit_history</th>\n      <th>purpose</th>\n      <th>credit_amount</th>\n      <th>savings_status</th>\n      <th>employment</th>\n      <th>installment_commitment</th>\n      <th>personal_status</th>\n      <th>other_parties</th>\n      <th>residence_since</th>\n      <th>property_magnitude</th>\n      <th>age</th>\n      <th>other_payment_plans</th>\n      <th>housing</th>\n      <th>existing_credits</th>\n      <th>job</th>\n      <th>num_dependents</th>\n      <th>own_telephone</th>\n      <th>foreign_worker</th>\n    </tr>\n  </thead>\n  <tbody>\n    <tr>\n      <th>0</th>\n      <td>&lt;0</td>\n      <td>6.0</td>\n      <td>critical/other existing credit</td>\n      <td>radio/tv</td>\n      <td>1169.0</td>\n      <td>no known savings</td>\n      <td>&gt;=7</td>\n      <td>4.0</td>\n      <td>male single</td>\n      <td>none</td>\n      <td>4.0</td>\n      <td>real estate</td>\n      <td>67.0</td>\n      <td>none</td>\n      <td>own</td>\n      <td>2.0</td>\n      <td>skilled</td>\n      <td>1.0</td>\n      <td>yes</td>\n      <td>yes</td>\n    </tr>\n    <tr>\n      <th>1</th>\n      <td>0&lt;=X&lt;200</td>\n      <td>48.0</td>\n      <td>existing paid</td>\n      <td>radio/tv</td>\n      <td>5951.0</td>\n      <td>&lt;100</td>\n      <td>1&lt;=X&lt;4</td>\n      <td>2.0</td>\n      <td>female div/dep/mar</td>\n      <td>none</td>\n      <td>2.0</td>\n      <td>real estate</td>\n      <td>22.0</td>\n      <td>none</td>\n      <td>own</td>\n      <td>1.0</td>\n      <td>skilled</td>\n      <td>1.0</td>\n      <td>none</td>\n      <td>yes</td>\n    </tr>\n    <tr>\n      <th>2</th>\n      <td>no checking</td>\n      <td>12.0</td>\n      <td>critical/other existing credit</td>\n      <td>education</td>\n      <td>2096.0</td>\n      <td>&lt;100</td>\n      <td>4&lt;=X&lt;7</td>\n      <td>2.0</td>\n      <td>male single</td>\n      <td>none</td>\n      <td>3.0</td>\n      <td>real estate</td>\n      <td>49.0</td>\n      <td>none</td>\n      <td>own</td>\n      <td>1.0</td>\n      <td>unskilled resident</td>\n      <td>2.0</td>\n      <td>none</td>\n      <td>yes</td>\n    </tr>\n    <tr>\n      <th>3</th>\n      <td>&lt;0</td>\n      <td>42.0</td>\n      <td>existing paid</td>\n      <td>furniture/equipment</td>\n      <td>7882.0</td>\n      <td>&lt;100</td>\n      <td>4&lt;=X&lt;7</td>\n      <td>2.0</td>\n      <td>male single</td>\n      <td>guarantor</td>\n      <td>4.0</td>\n      <td>life insurance</td>\n      <td>45.0</td>\n      <td>none</td>\n      <td>for free</td>\n      <td>1.0</td>\n      <td>skilled</td>\n      <td>2.0</td>\n      <td>none</td>\n      <td>yes</td>\n    </tr>\n    <tr>\n      <th>4</th>\n      <td>&lt;0</td>\n      <td>24.0</td>\n      <td>delayed previously</td>\n      <td>new car</td>\n      <td>4870.0</td>\n      <td>&lt;100</td>\n      <td>1&lt;=X&lt;4</td>\n      <td>3.0</td>\n      <td>male single</td>\n      <td>none</td>\n      <td>4.0</td>\n      <td>no known property</td>\n      <td>53.0</td>\n      <td>none</td>\n      <td>for free</td>\n      <td>2.0</td>\n      <td>skilled</td>\n      <td>2.0</td>\n      <td>none</td>\n      <td>yes</td>\n    </tr>\n    <tr>\n      <th>...</th>\n      <td>...</td>\n      <td>...</td>\n      <td>...</td>\n      <td>...</td>\n      <td>...</td>\n      <td>...</td>\n      <td>...</td>\n      <td>...</td>\n      <td>...</td>\n      <td>...</td>\n      <td>...</td>\n      <td>...</td>\n      <td>...</td>\n      <td>...</td>\n      <td>...</td>\n      <td>...</td>\n      <td>...</td>\n      <td>...</td>\n      <td>...</td>\n      <td>...</td>\n    </tr>\n    <tr>\n      <th>995</th>\n      <td>no checking</td>\n      <td>12.0</td>\n      <td>existing paid</td>\n      <td>furniture/equipment</td>\n      <td>1736.0</td>\n      <td>&lt;100</td>\n      <td>4&lt;=X&lt;7</td>\n      <td>3.0</td>\n      <td>female div/dep/mar</td>\n      <td>none</td>\n      <td>4.0</td>\n      <td>real estate</td>\n      <td>31.0</td>\n      <td>none</td>\n      <td>own</td>\n      <td>1.0</td>\n      <td>unskilled resident</td>\n      <td>1.0</td>\n      <td>none</td>\n      <td>yes</td>\n    </tr>\n    <tr>\n      <th>996</th>\n      <td>&lt;0</td>\n      <td>30.0</td>\n      <td>existing paid</td>\n      <td>used car</td>\n      <td>3857.0</td>\n      <td>&lt;100</td>\n      <td>1&lt;=X&lt;4</td>\n      <td>4.0</td>\n      <td>male div/sep</td>\n      <td>none</td>\n      <td>4.0</td>\n      <td>life insurance</td>\n      <td>40.0</td>\n      <td>none</td>\n      <td>own</td>\n      <td>1.0</td>\n      <td>high qualif/self emp/mgmt</td>\n      <td>1.0</td>\n      <td>yes</td>\n      <td>yes</td>\n    </tr>\n    <tr>\n      <th>997</th>\n      <td>no checking</td>\n      <td>12.0</td>\n      <td>existing paid</td>\n      <td>radio/tv</td>\n      <td>804.0</td>\n      <td>&lt;100</td>\n      <td>&gt;=7</td>\n      <td>4.0</td>\n      <td>male single</td>\n      <td>none</td>\n      <td>4.0</td>\n      <td>car</td>\n      <td>38.0</td>\n      <td>none</td>\n      <td>own</td>\n      <td>1.0</td>\n      <td>skilled</td>\n      <td>1.0</td>\n      <td>none</td>\n      <td>yes</td>\n    </tr>\n    <tr>\n      <th>998</th>\n      <td>&lt;0</td>\n      <td>45.0</td>\n      <td>existing paid</td>\n      <td>radio/tv</td>\n      <td>1845.0</td>\n      <td>&lt;100</td>\n      <td>1&lt;=X&lt;4</td>\n      <td>4.0</td>\n      <td>male single</td>\n      <td>none</td>\n      <td>4.0</td>\n      <td>no known property</td>\n      <td>23.0</td>\n      <td>none</td>\n      <td>for free</td>\n      <td>1.0</td>\n      <td>skilled</td>\n      <td>1.0</td>\n      <td>yes</td>\n      <td>yes</td>\n    </tr>\n    <tr>\n      <th>999</th>\n      <td>0&lt;=X&lt;200</td>\n      <td>45.0</td>\n      <td>critical/other existing credit</td>\n      <td>used car</td>\n      <td>4576.0</td>\n      <td>100&lt;=X&lt;500</td>\n      <td>unemployed</td>\n      <td>3.0</td>\n      <td>male single</td>\n      <td>none</td>\n      <td>4.0</td>\n      <td>car</td>\n      <td>27.0</td>\n      <td>none</td>\n      <td>own</td>\n      <td>1.0</td>\n      <td>skilled</td>\n      <td>1.0</td>\n      <td>none</td>\n      <td>yes</td>\n    </tr>\n  </tbody>\n</table>\n<p>1000 rows × 20 columns</p>\n</div>"
     },
     "execution_count": 128,
     "metadata": {},
     "output_type": "execute_result"
    }
   ],
   "source": [
    "df = data.data\n",
    "df"
   ],
   "metadata": {
    "collapsed": false
   }
  },
  {
   "cell_type": "code",
   "execution_count": 129,
   "outputs": [
    {
     "data": {
      "text/plain": "checking_status           0.0\nduration                  0.0\ncredit_history            0.0\npurpose                   0.0\ncredit_amount             0.0\nsavings_status            0.0\nemployment                0.0\ninstallment_commitment    0.0\npersonal_status           0.0\nother_parties             0.0\nresidence_since           0.0\nproperty_magnitude        0.0\nage                       0.0\nother_payment_plans       0.0\nhousing                   0.0\nexisting_credits          0.0\njob                       0.0\nnum_dependents            0.0\nown_telephone             0.0\nforeign_worker            0.0\ndtype: float64"
     },
     "execution_count": 129,
     "metadata": {},
     "output_type": "execute_result"
    }
   ],
   "source": [
    "df.isna().mean()"
   ],
   "metadata": {
    "collapsed": false
   }
  },
  {
   "cell_type": "code",
   "execution_count": 130,
   "outputs": [
    {
     "data": {
      "text/plain": "0"
     },
     "execution_count": 130,
     "metadata": {},
     "output_type": "execute_result"
    }
   ],
   "source": [
    "df.duplicated().sum()"
   ],
   "metadata": {
    "collapsed": false
   }
  },
  {
   "cell_type": "code",
   "execution_count": 131,
   "outputs": [
    {
     "name": "stdout",
     "output_type": "stream",
     "text": [
      "<class 'pandas.core.frame.DataFrame'>\n",
      "RangeIndex: 1000 entries, 0 to 999\n",
      "Data columns (total 20 columns):\n",
      " #   Column                  Non-Null Count  Dtype   \n",
      "---  ------                  --------------  -----   \n",
      " 0   checking_status         1000 non-null   category\n",
      " 1   duration                1000 non-null   float64 \n",
      " 2   credit_history          1000 non-null   category\n",
      " 3   purpose                 1000 non-null   category\n",
      " 4   credit_amount           1000 non-null   float64 \n",
      " 5   savings_status          1000 non-null   category\n",
      " 6   employment              1000 non-null   category\n",
      " 7   installment_commitment  1000 non-null   float64 \n",
      " 8   personal_status         1000 non-null   category\n",
      " 9   other_parties           1000 non-null   category\n",
      " 10  residence_since         1000 non-null   float64 \n",
      " 11  property_magnitude      1000 non-null   category\n",
      " 12  age                     1000 non-null   float64 \n",
      " 13  other_payment_plans     1000 non-null   category\n",
      " 14  housing                 1000 non-null   category\n",
      " 15  existing_credits        1000 non-null   float64 \n",
      " 16  job                     1000 non-null   category\n",
      " 17  num_dependents          1000 non-null   float64 \n",
      " 18  own_telephone           1000 non-null   category\n",
      " 19  foreign_worker          1000 non-null   category\n",
      "dtypes: category(13), float64(7)\n",
      "memory usage: 69.9 KB\n"
     ]
    }
   ],
   "source": [
    "df.info()"
   ],
   "metadata": {
    "collapsed": false
   }
  },
  {
   "cell_type": "code",
   "execution_count": 132,
   "outputs": [
    {
     "data": {
      "text/plain": "checking_status             4\nduration                   33\ncredit_history              5\npurpose                    10\ncredit_amount             921\nsavings_status              5\nemployment                  5\ninstallment_commitment      4\npersonal_status             4\nother_parties               3\nresidence_since             4\nproperty_magnitude          4\nage                        53\nother_payment_plans         3\nhousing                     3\nexisting_credits            4\njob                         4\nnum_dependents              2\nown_telephone               2\nforeign_worker              2\ndtype: int64"
     },
     "execution_count": 132,
     "metadata": {},
     "output_type": "execute_result"
    }
   ],
   "source": [
    "df.nunique()"
   ],
   "metadata": {
    "collapsed": false
   }
  },
  {
   "cell_type": "code",
   "execution_count": 133,
   "outputs": [
    {
     "data": {
      "text/plain": "<AxesSubplot:>"
     },
     "execution_count": 133,
     "metadata": {},
     "output_type": "execute_result"
    },
    {
     "data": {
      "text/plain": "<Figure size 640x480 with 1 Axes>",
      "image/png": "[encoded data removed]"
     },
     "metadata": {},
     "output_type": "display_data"
    }
   ],
   "source": [
    "data.target.hist()"
   ],
   "metadata": {
    "collapsed": false
   }
  },
  {
   "cell_type": "code",
   "execution_count": 134,
   "outputs": [],
   "source": [
    "from sklearn.model_selection import train_test_split\n",
    "\n",
    "X_train, X_test, y_train, y_test = train_test_split(data.data, data.target, test_size=0.2)"
   ],
   "metadata": {
    "collapsed": false
   }
  },
  {
   "cell_type": "code",
   "execution_count": 135,
   "outputs": [],
   "source": [
    "from sklearn.linear_model import LogisticRegression\n",
    "from sklearn.neighbors import KNeighborsClassifier\n",
    "from sklearn.svm import SVC"
   ],
   "metadata": {
    "collapsed": false
   }
  },
  {
   "cell_type": "code",
   "execution_count": 136,
   "outputs": [],
   "source": [
    "from sklearn.compose import ColumnTransformer\n",
    "from sklearn.preprocessing import OneHotEncoder, StandardScaler\n",
    "from sklearn.pipeline import make_pipeline\n",
    "\n",
    "\n",
    "def train_model(_model, categorical_cols, X, y):\n",
    "    transform = ColumnTransformer([('onehot', OneHotEncoder(drop='if_binary'), categorical_cols)])\n",
    "    return make_pipeline(transform, StandardScaler(with_mean=False), _model).fit(X, y)"
   ],
   "metadata": {
    "collapsed": false
   }
  },
  {
   "cell_type": "code",
   "execution_count": 137,
   "outputs": [
    {
     "data": {
      "text/plain": "(Index(['duration', 'credit_amount', 'installment_commitment',\n        'residence_since', 'age', 'existing_credits', 'num_dependents'],\n       dtype='object'),\n Index(['checking_status', 'credit_history', 'purpose', 'savings_status',\n        'employment', 'personal_status', 'other_parties', 'property_magnitude',\n        'other_payment_plans', 'housing', 'job', 'own_telephone',\n        'foreign_worker'],\n       dtype='object'))"
     },
     "execution_count": 137,
     "metadata": {},
     "output_type": "execute_result"
    }
   ],
   "source": [
    "num_columns = df.describe().columns\n",
    "cat_cols = df.select_dtypes(include=['category']).columns\n",
    "num_columns, cat_cols"
   ],
   "metadata": {
    "collapsed": false
   }
  },
  {
   "cell_type": "code",
   "execution_count": 138,
   "outputs": [
    {
     "name": "stdout",
     "output_type": "stream",
     "text": [
      "{'n_neighbors': 9}\n",
      "{'kernel': 'poly'}\n"
     ]
    }
   ],
   "source": [
    "from sklearn.model_selection import GridSearchCV\n",
    "\n",
    "param_grid = [{\n",
    "    'n_neighbors': np.linspace(3, 20, dtype=int)\n",
    "}, {\n",
    "    'kernel': ['linear', 'poly', 'rbf', 'sigmoid']\n",
    "}]\n",
    "for param_grid, model in zip(param_grid, [KNeighborsClassifier(), SVC()]):\n",
    "    search = train_model(GridSearchCV(model, param_grid=param_grid, cv=8), cat_cols, X_train, y_train)\n",
    "    search.fit(X_train, y_train)\n",
    "    print(search[-1].best_params_)"
   ],
   "metadata": {
    "collapsed": false
   }
  },
  {
   "cell_type": "code",
   "execution_count": 143,
   "outputs": [
    {
     "name": "stdout",
     "output_type": "stream",
     "text": [
      "KNeighborsClassifier: CPU times: total: 31.2 ms\n",
      "Wall time: 35.7 ms\n"
     ]
    },
    {
     "data": {
      "text/plain": "<Figure size 640x480 with 2 Axes>",
      "image/png": "[encoded data removed]"
     },
     "metadata": {},
     "output_type": "display_data"
    },
    {
     "name": "stdout",
     "output_type": "stream",
     "text": [
      "LogisticRegression: CPU times: total: 46.9 ms\n",
      "Wall time: 72.8 ms\n"
     ]
    },
    {
     "data": {
      "text/plain": "<Figure size 640x480 with 2 Axes>",
      "image/png": "[encoded data removed]"
     },
     "metadata": {},
     "output_type": "display_data"
    },
    {
     "name": "stdout",
     "output_type": "stream",
     "text": [
      "SVC: CPU times: total: 78.1 ms\n",
      "Wall time: 85.2 ms\n"
     ]
    },
    {
     "data": {
      "text/plain": "<Figure size 640x480 with 2 Axes>",
      "image/png": "[encoded data removed]"
     },
     "metadata": {},
     "output_type": "display_data"
    }
   ],
   "source": [
    "models = [KNeighborsClassifier(n_neighbors=12), LogisticRegression(), SVC(kernel='poly')]\n",
    "result = []\n",
    "for model in models:\n",
    "    print(model.__class__.__name__, end=\": \")\n",
    "    % time result.append((y_test, train_model(model, cat_cols, X_train, y_train).predict(X_test)))\n",
    "    cm = confusion_matrix(*result[-1])\n",
    "    sns.heatmap(pd.DataFrame(cm, columns=['bad', 'good'], index=['bad', 'good']), annot=True)\n",
    "    plt.show()"
   ],
   "metadata": {
    "collapsed": false
   }
  },
  {
   "cell_type": "code",
   "execution_count": null,
   "outputs": [],
   "source": [
    "from sklearn.metrics import classification_report\n",
    "\n",
    "for y_true, y_pred in result:\n",
    "    print(classification_report(y_true, y_pred, target_names=models[0].classes_))"
   ],
   "metadata": {
    "collapsed": false
   }
  },
  {
   "cell_type": "code",
   "execution_count": null,
   "outputs": [],
   "source": [],
   "metadata": {
    "collapsed": false
   }
  },
  {
   "cell_type": "code",
   "execution_count": 1,
   "outputs": [
    {
     "ename": "ValueError",
     "evalue": "not enough values to unpack (expected 2, got 0)",
     "output_type": "error",
     "traceback": [
      "\u001B[1;31m---------------------------------------------------------------------------\u001B[0m",
      "\u001B[1;31mValueError\u001B[0m                                Traceback (most recent call last)",
      "Input \u001B[1;32mIn [1]\u001B[0m, in \u001B[0;36m<cell line: 4>\u001B[1;34m()\u001B[0m\n\u001B[0;32m      1\u001B[0m \u001B[38;5;28;01mfrom\u001B[39;00m \u001B[38;5;21;01msys\u001B[39;00m \u001B[38;5;28;01mimport\u001B[39;00m stdin\n\u001B[0;32m      2\u001B[0m \u001B[38;5;28minput\u001B[39m \u001B[38;5;241m=\u001B[39m stdin\u001B[38;5;241m.\u001B[39mreadline\n\u001B[1;32m----> 4\u001B[0m n, m \u001B[38;5;241m=\u001B[39m \u001B[38;5;28mmap\u001B[39m(\u001B[38;5;28mint\u001B[39m, \u001B[38;5;28minput\u001B[39m()\u001B[38;5;241m.\u001B[39msplit())\n\u001B[0;32m      6\u001B[0m graph \u001B[38;5;241m=\u001B[39m [[] \u001B[38;5;28;01mfor\u001B[39;00m _ \u001B[38;5;129;01min\u001B[39;00m \u001B[38;5;28mrange\u001B[39m(n)]\n\u001B[0;32m      7\u001B[0m \u001B[38;5;28;01mfor\u001B[39;00m i \u001B[38;5;129;01min\u001B[39;00m \u001B[38;5;28mrange\u001B[39m(m):\n",
      "\u001B[1;31mValueError\u001B[0m: not enough values to unpack (expected 2, got 0)"
     ]
    }
   ],
   "source": [],
   "metadata": {
    "collapsed": false
   }
  }
 ],
 "metadata": {
  "kernelspec": {
   "display_name": "Python 3",
   "language": "python",
   "name": "python3"
  },
  "language_info": {
   "codemirror_mode": {
    "name": "ipython",
    "version": 2
   },
   "file_extension": ".py",
   "mimetype": "text/x-python",
   "name": "python",
   "nbconvert_exporter": "python",
   "pygments_lexer": "ipython2",
   "version": "2.7.6"
  }
 },
 "nbformat": 4,
 "nbformat_minor": 0
}
