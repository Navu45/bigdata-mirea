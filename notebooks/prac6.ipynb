{
 "cells": [
  {
   "cell_type": "markdown",
   "source": [
    "Task 1"
   ],
   "metadata": {
    "collapsed": false
   }
  },
  {
   "cell_type": "code",
   "execution_count": 264,
   "metadata": {
    "collapsed": true
   },
   "outputs": [],
   "source": [
    "import numpy as np\n",
    "import pandas as pd\n",
    "import matplotlib.pyplot as plt"
   ]
  },
  {
   "cell_type": "code",
   "execution_count": 265,
   "outputs": [
    {
     "data": {
      "text/plain": "      dateRep  day  month  year  cases  deaths countriesAndTerritories geoId  \\\n0  14/12/2020   14     12  2020    746       6             Afghanistan    AF   \n1  13/12/2020   13     12  2020    298       9             Afghanistan    AF   \n2  12/12/2020   12     12  2020    113      11             Afghanistan    AF   \n3  12/12/2020   12     12  2020    113      11             Afghanistan    AF   \n4  11/12/2020   11     12  2020     63      10             Afghanistan    AF   \n\n  countryterritoryCode  popData2019 continentExp  \\\n0                  AFG   38041757.0         Asia   \n1                  AFG   38041757.0         Asia   \n2                  AFG   38041757.0         Asia   \n3                  AFG   38041757.0         Asia   \n4                  AFG   38041757.0         Asia   \n\n   Cumulative_number_for_14_days_of_COVID-19_cases_per_100000  \n0                                           9.013779           \n1                                           7.052776           \n2                                           6.868768           \n3                                           6.868768           \n4                                           7.134266           ",
      "text/html": "<div>\n<style scoped>\n    .dataframe tbody tr th:only-of-type {\n        vertical-align: middle;\n    }\n\n    .dataframe tbody tr th {\n        vertical-align: top;\n    }\n\n    .dataframe thead th {\n        text-align: right;\n    }\n</style>\n<table border=\"1\" class=\"dataframe\">\n  <thead>\n    <tr style=\"text-align: right;\">\n      <th></th>\n      <th>dateRep</th>\n      <th>day</th>\n      <th>month</th>\n      <th>year</th>\n      <th>cases</th>\n      <th>deaths</th>\n      <th>countriesAndTerritories</th>\n      <th>geoId</th>\n      <th>countryterritoryCode</th>\n      <th>popData2019</th>\n      <th>continentExp</th>\n      <th>Cumulative_number_for_14_days_of_COVID-19_cases_per_100000</th>\n    </tr>\n  </thead>\n  <tbody>\n    <tr>\n      <th>0</th>\n      <td>14/12/2020</td>\n      <td>14</td>\n      <td>12</td>\n      <td>2020</td>\n      <td>746</td>\n      <td>6</td>\n      <td>Afghanistan</td>\n      <td>AF</td>\n      <td>AFG</td>\n      <td>38041757.0</td>\n      <td>Asia</td>\n      <td>9.013779</td>\n    </tr>\n    <tr>\n      <th>1</th>\n      <td>13/12/2020</td>\n      <td>13</td>\n      <td>12</td>\n      <td>2020</td>\n      <td>298</td>\n      <td>9</td>\n      <td>Afghanistan</td>\n      <td>AF</td>\n      <td>AFG</td>\n      <td>38041757.0</td>\n      <td>Asia</td>\n      <td>7.052776</td>\n    </tr>\n    <tr>\n      <th>2</th>\n      <td>12/12/2020</td>\n      <td>12</td>\n      <td>12</td>\n      <td>2020</td>\n      <td>113</td>\n      <td>11</td>\n      <td>Afghanistan</td>\n      <td>AF</td>\n      <td>AFG</td>\n      <td>38041757.0</td>\n      <td>Asia</td>\n      <td>6.868768</td>\n    </tr>\n    <tr>\n      <th>3</th>\n      <td>12/12/2020</td>\n      <td>12</td>\n      <td>12</td>\n      <td>2020</td>\n      <td>113</td>\n      <td>11</td>\n      <td>Afghanistan</td>\n      <td>AF</td>\n      <td>AFG</td>\n      <td>38041757.0</td>\n      <td>Asia</td>\n      <td>6.868768</td>\n    </tr>\n    <tr>\n      <th>4</th>\n      <td>11/12/2020</td>\n      <td>11</td>\n      <td>12</td>\n      <td>2020</td>\n      <td>63</td>\n      <td>10</td>\n      <td>Afghanistan</td>\n      <td>AF</td>\n      <td>AFG</td>\n      <td>38041757.0</td>\n      <td>Asia</td>\n      <td>7.134266</td>\n    </tr>\n  </tbody>\n</table>\n</div>"
     },
     "execution_count": 265,
     "metadata": {},
     "output_type": "execute_result"
    }
   ],
   "source": [
    "data = pd.read_csv(\"../data/ECDCCases.csv\")\n",
    "data.head()"
   ],
   "metadata": {
    "collapsed": false
   }
  },
  {
   "cell_type": "markdown",
   "source": [
    "Task 2"
   ],
   "metadata": {
    "collapsed": false
   }
  },
  {
   "cell_type": "code",
   "execution_count": 266,
   "outputs": [
    {
     "data": {
      "text/plain": "dateRep                                                       0.000000\nday                                                           0.000000\nmonth                                                         0.000000\nyear                                                          0.000000\ncases                                                         0.000000\ndeaths                                                        0.000000\ncountriesAndTerritories                                       0.000000\ngeoId                                                         0.444236\ncountryterritoryCode                                          0.198695\npopData2019                                                   0.198695\ncontinentExp                                                  0.000000\nCumulative_number_for_14_days_of_COVID-19_cases_per_100000    4.650750\ndtype: float64"
     },
     "execution_count": 266,
     "metadata": {},
     "output_type": "execute_result"
    }
   ],
   "source": [
    "data.isna().mean() * 100"
   ],
   "metadata": {
    "collapsed": false
   }
  },
  {
   "cell_type": "code",
   "execution_count": 267,
   "outputs": [],
   "source": [
    "data = data.drop(['geoId', 'Cumulative_number_for_14_days_of_COVID-19_cases_per_100000'], axis=1)"
   ],
   "metadata": {
    "collapsed": false
   }
  },
  {
   "cell_type": "markdown",
   "source": [],
   "metadata": {
    "collapsed": false
   }
  },
  {
   "cell_type": "code",
   "execution_count": 268,
   "outputs": [],
   "source": [
    "data.popData2019.fillna(data.popData2019.median(), inplace=True)\n",
    "data.countryterritoryCode.fillna(data.countryterritoryCode.describe().top, inplace=True)"
   ],
   "metadata": {
    "collapsed": false
   }
  },
  {
   "cell_type": "code",
   "execution_count": 269,
   "outputs": [
    {
     "data": {
      "text/plain": "dateRep                    0.0\nday                        0.0\nmonth                      0.0\nyear                       0.0\ncases                      0.0\ndeaths                     0.0\ncountriesAndTerritories    0.0\ncountryterritoryCode       0.0\npopData2019                0.0\ncontinentExp               0.0\ndtype: float64"
     },
     "execution_count": 269,
     "metadata": {},
     "output_type": "execute_result"
    }
   ],
   "source": [
    "data.isna().mean() * 100"
   ],
   "metadata": {
    "collapsed": false
   }
  },
  {
   "cell_type": "markdown",
   "source": [
    "Task 3"
   ],
   "metadata": {
    "collapsed": false
   }
  },
  {
   "cell_type": "code",
   "execution_count": 270,
   "outputs": [
    {
     "data": {
      "text/plain": "                day         month          year          cases        deaths  \\\ncount  61904.000000  61904.000000  61904.000000   61904.000000  61904.000000   \nmean      15.629232      7.067104   2019.998918    1155.079026     26.053987   \nstd        8.841624      2.954816      0.032881    6779.010824    131.222948   \nmin        1.000000      1.000000   2019.000000   -8261.000000  -1918.000000   \n25%        8.000000      5.000000   2020.000000       0.000000      0.000000   \n50%       15.000000      7.000000   2020.000000      15.000000      0.000000   \n75%       23.000000     10.000000   2020.000000     273.000000      4.000000   \nmax       31.000000     12.000000   2020.000000  234633.000000   4928.000000   \n\n        popData2019  \ncount  6.190400e+04  \nmean   4.091909e+07  \nstd    1.529798e+08  \nmin    8.150000e+02  \n25%    1.324820e+06  \n50%    7.169456e+06  \n75%    2.851583e+07  \nmax    1.433784e+09  ",
      "text/html": "<div>\n<style scoped>\n    .dataframe tbody tr th:only-of-type {\n        vertical-align: middle;\n    }\n\n    .dataframe tbody tr th {\n        vertical-align: top;\n    }\n\n    .dataframe thead th {\n        text-align: right;\n    }\n</style>\n<table border=\"1\" class=\"dataframe\">\n  <thead>\n    <tr style=\"text-align: right;\">\n      <th></th>\n      <th>day</th>\n      <th>month</th>\n      <th>year</th>\n      <th>cases</th>\n      <th>deaths</th>\n      <th>popData2019</th>\n    </tr>\n  </thead>\n  <tbody>\n    <tr>\n      <th>count</th>\n      <td>61904.000000</td>\n      <td>61904.000000</td>\n      <td>61904.000000</td>\n      <td>61904.000000</td>\n      <td>61904.000000</td>\n      <td>6.190400e+04</td>\n    </tr>\n    <tr>\n      <th>mean</th>\n      <td>15.629232</td>\n      <td>7.067104</td>\n      <td>2019.998918</td>\n      <td>1155.079026</td>\n      <td>26.053987</td>\n      <td>4.091909e+07</td>\n    </tr>\n    <tr>\n      <th>std</th>\n      <td>8.841624</td>\n      <td>2.954816</td>\n      <td>0.032881</td>\n      <td>6779.010824</td>\n      <td>131.222948</td>\n      <td>1.529798e+08</td>\n    </tr>\n    <tr>\n      <th>min</th>\n      <td>1.000000</td>\n      <td>1.000000</td>\n      <td>2019.000000</td>\n      <td>-8261.000000</td>\n      <td>-1918.000000</td>\n      <td>8.150000e+02</td>\n    </tr>\n    <tr>\n      <th>25%</th>\n      <td>8.000000</td>\n      <td>5.000000</td>\n      <td>2020.000000</td>\n      <td>0.000000</td>\n      <td>0.000000</td>\n      <td>1.324820e+06</td>\n    </tr>\n    <tr>\n      <th>50%</th>\n      <td>15.000000</td>\n      <td>7.000000</td>\n      <td>2020.000000</td>\n      <td>15.000000</td>\n      <td>0.000000</td>\n      <td>7.169456e+06</td>\n    </tr>\n    <tr>\n      <th>75%</th>\n      <td>23.000000</td>\n      <td>10.000000</td>\n      <td>2020.000000</td>\n      <td>273.000000</td>\n      <td>4.000000</td>\n      <td>2.851583e+07</td>\n    </tr>\n    <tr>\n      <th>max</th>\n      <td>31.000000</td>\n      <td>12.000000</td>\n      <td>2020.000000</td>\n      <td>234633.000000</td>\n      <td>4928.000000</td>\n      <td>1.433784e+09</td>\n    </tr>\n  </tbody>\n</table>\n</div>"
     },
     "execution_count": 270,
     "metadata": {},
     "output_type": "execute_result"
    }
   ],
   "source": [
    "data.describe()"
   ],
   "metadata": {
    "collapsed": false
   }
  },
  {
   "cell_type": "code",
   "execution_count": 271,
   "outputs": [
    {
     "data": {
      "text/plain": "<Figure size 1000x1000 with 6 Axes>",
      "image/png": "[encoded data removed]"
     },
     "metadata": {},
     "output_type": "display_data"
    }
   ],
   "source": [
    "plt.figure(figsize=(10, 10))\n",
    "for index, column in enumerate(data.describe().columns):\n",
    "    plt.subplot(2, 3, index + 1)\n",
    "    data.loc[:, [column]].boxplot()\n",
    "plt.show()"
   ],
   "metadata": {
    "collapsed": false
   }
  },
  {
   "cell_type": "code",
   "execution_count": 272,
   "outputs": [
    {
     "data": {
      "text/plain": "          dateRep  day  month  year   cases  deaths   countriesAndTerritories  \\\n2118   02/10/2020    2     10  2020   14001    3351                 Argentina   \n16908  07/09/2020    7      9  2020   -8261    3800                   Ecuador   \n37038  09/10/2020    9     10  2020    4936    3013                    Mexico   \n44888  14/08/2020   14      8  2020    9441    3935                      Peru   \n44909  24/07/2020   24      7  2020    4546    3887                      Peru   \n59007  12/12/2020   12     12  2020  234633    3343  United_States_of_America   \n59009  10/12/2020   10     12  2020  220025    3124  United_States_of_America   \n59016  03/12/2020    3     12  2020  203311    3190  United_States_of_America   \n59239  24/04/2020   24      4  2020   26543    3179  United_States_of_America   \n59245  18/04/2020   18      4  2020   30833    3770  United_States_of_America   \n59247  16/04/2020   16      4  2020   30148    4928  United_States_of_America   \n\n      countryterritoryCode  popData2019 continentExp  \n2118                   ARG   44780675.0      America  \n16908                  ECU   17373657.0      America  \n37038                  MEX  127575529.0      America  \n44888                  PER   32510462.0      America  \n44909                  PER   32510462.0      America  \n59007                  USA  329064917.0      America  \n59009                  USA  329064917.0      America  \n59016                  USA  329064917.0      America  \n59239                  USA  329064917.0      America  \n59245                  USA  329064917.0      America  \n59247                  USA  329064917.0      America  ",
      "text/html": "<div>\n<style scoped>\n    .dataframe tbody tr th:only-of-type {\n        vertical-align: middle;\n    }\n\n    .dataframe tbody tr th {\n        vertical-align: top;\n    }\n\n    .dataframe thead th {\n        text-align: right;\n    }\n</style>\n<table border=\"1\" class=\"dataframe\">\n  <thead>\n    <tr style=\"text-align: right;\">\n      <th></th>\n      <th>dateRep</th>\n      <th>day</th>\n      <th>month</th>\n      <th>year</th>\n      <th>cases</th>\n      <th>deaths</th>\n      <th>countriesAndTerritories</th>\n      <th>countryterritoryCode</th>\n      <th>popData2019</th>\n      <th>continentExp</th>\n    </tr>\n  </thead>\n  <tbody>\n    <tr>\n      <th>2118</th>\n      <td>02/10/2020</td>\n      <td>2</td>\n      <td>10</td>\n      <td>2020</td>\n      <td>14001</td>\n      <td>3351</td>\n      <td>Argentina</td>\n      <td>ARG</td>\n      <td>44780675.0</td>\n      <td>America</td>\n    </tr>\n    <tr>\n      <th>16908</th>\n      <td>07/09/2020</td>\n      <td>7</td>\n      <td>9</td>\n      <td>2020</td>\n      <td>-8261</td>\n      <td>3800</td>\n      <td>Ecuador</td>\n      <td>ECU</td>\n      <td>17373657.0</td>\n      <td>America</td>\n    </tr>\n    <tr>\n      <th>37038</th>\n      <td>09/10/2020</td>\n      <td>9</td>\n      <td>10</td>\n      <td>2020</td>\n      <td>4936</td>\n      <td>3013</td>\n      <td>Mexico</td>\n      <td>MEX</td>\n      <td>127575529.0</td>\n      <td>America</td>\n    </tr>\n    <tr>\n      <th>44888</th>\n      <td>14/08/2020</td>\n      <td>14</td>\n      <td>8</td>\n      <td>2020</td>\n      <td>9441</td>\n      <td>3935</td>\n      <td>Peru</td>\n      <td>PER</td>\n      <td>32510462.0</td>\n      <td>America</td>\n    </tr>\n    <tr>\n      <th>44909</th>\n      <td>24/07/2020</td>\n      <td>24</td>\n      <td>7</td>\n      <td>2020</td>\n      <td>4546</td>\n      <td>3887</td>\n      <td>Peru</td>\n      <td>PER</td>\n      <td>32510462.0</td>\n      <td>America</td>\n    </tr>\n    <tr>\n      <th>59007</th>\n      <td>12/12/2020</td>\n      <td>12</td>\n      <td>12</td>\n      <td>2020</td>\n      <td>234633</td>\n      <td>3343</td>\n      <td>United_States_of_America</td>\n      <td>USA</td>\n      <td>329064917.0</td>\n      <td>America</td>\n    </tr>\n    <tr>\n      <th>59009</th>\n      <td>10/12/2020</td>\n      <td>10</td>\n      <td>12</td>\n      <td>2020</td>\n      <td>220025</td>\n      <td>3124</td>\n      <td>United_States_of_America</td>\n      <td>USA</td>\n      <td>329064917.0</td>\n      <td>America</td>\n    </tr>\n    <tr>\n      <th>59016</th>\n      <td>03/12/2020</td>\n      <td>3</td>\n      <td>12</td>\n      <td>2020</td>\n      <td>203311</td>\n      <td>3190</td>\n      <td>United_States_of_America</td>\n      <td>USA</td>\n      <td>329064917.0</td>\n      <td>America</td>\n    </tr>\n    <tr>\n      <th>59239</th>\n      <td>24/04/2020</td>\n      <td>24</td>\n      <td>4</td>\n      <td>2020</td>\n      <td>26543</td>\n      <td>3179</td>\n      <td>United_States_of_America</td>\n      <td>USA</td>\n      <td>329064917.0</td>\n      <td>America</td>\n    </tr>\n    <tr>\n      <th>59245</th>\n      <td>18/04/2020</td>\n      <td>18</td>\n      <td>4</td>\n      <td>2020</td>\n      <td>30833</td>\n      <td>3770</td>\n      <td>United_States_of_America</td>\n      <td>USA</td>\n      <td>329064917.0</td>\n      <td>America</td>\n    </tr>\n    <tr>\n      <th>59247</th>\n      <td>16/04/2020</td>\n      <td>16</td>\n      <td>4</td>\n      <td>2020</td>\n      <td>30148</td>\n      <td>4928</td>\n      <td>United_States_of_America</td>\n      <td>USA</td>\n      <td>329064917.0</td>\n      <td>America</td>\n    </tr>\n  </tbody>\n</table>\n</div>"
     },
     "execution_count": 272,
     "metadata": {},
     "output_type": "execute_result"
    }
   ],
   "source": [
    "data[data['deaths'] > 3000]"
   ],
   "metadata": {
    "collapsed": false
   }
  },
  {
   "cell_type": "markdown",
   "source": [
    "Task 4"
   ],
   "metadata": {
    "collapsed": false
   }
  },
  {
   "cell_type": "code",
   "execution_count": 273,
   "outputs": [
    {
     "data": {
      "text/plain": "4"
     },
     "execution_count": 273,
     "metadata": {},
     "output_type": "execute_result"
    }
   ],
   "source": [
    "data.duplicated().sum()"
   ],
   "metadata": {
    "collapsed": false
   }
  },
  {
   "cell_type": "code",
   "execution_count": 274,
   "outputs": [],
   "source": [
    "data = data.drop_duplicates()"
   ],
   "metadata": {
    "collapsed": false
   }
  },
  {
   "cell_type": "code",
   "execution_count": 275,
   "outputs": [
    {
     "data": {
      "text/plain": "0"
     },
     "execution_count": 275,
     "metadata": {},
     "output_type": "execute_result"
    }
   ],
   "source": [
    "data.duplicated().sum()"
   ],
   "metadata": {
    "collapsed": false
   }
  },
  {
   "cell_type": "markdown",
   "source": [
    "Task 5"
   ],
   "metadata": {
    "collapsed": false
   }
  },
  {
   "cell_type": "code",
   "execution_count": 276,
   "outputs": [
    {
     "data": {
      "text/plain": "        bmi     region\n0    22.705  northwest\n1    28.880  northwest\n2    27.740  northwest\n3    25.840  northwest\n4    28.025  northwest\n..      ...        ...\n645  20.600  southwest\n646  38.600  southwest\n647  33.400  southwest\n648  44.700  southwest\n649  25.800  southwest\n\n[650 rows x 2 columns]",
      "text/html": "<div>\n<style scoped>\n    .dataframe tbody tr th:only-of-type {\n        vertical-align: middle;\n    }\n\n    .dataframe tbody tr th {\n        vertical-align: top;\n    }\n\n    .dataframe thead th {\n        text-align: right;\n    }\n</style>\n<table border=\"1\" class=\"dataframe\">\n  <thead>\n    <tr style=\"text-align: right;\">\n      <th></th>\n      <th>bmi</th>\n      <th>region</th>\n    </tr>\n  </thead>\n  <tbody>\n    <tr>\n      <th>0</th>\n      <td>22.705</td>\n      <td>northwest</td>\n    </tr>\n    <tr>\n      <th>1</th>\n      <td>28.880</td>\n      <td>northwest</td>\n    </tr>\n    <tr>\n      <th>2</th>\n      <td>27.740</td>\n      <td>northwest</td>\n    </tr>\n    <tr>\n      <th>3</th>\n      <td>25.840</td>\n      <td>northwest</td>\n    </tr>\n    <tr>\n      <th>4</th>\n      <td>28.025</td>\n      <td>northwest</td>\n    </tr>\n    <tr>\n      <th>...</th>\n      <td>...</td>\n      <td>...</td>\n    </tr>\n    <tr>\n      <th>645</th>\n      <td>20.600</td>\n      <td>southwest</td>\n    </tr>\n    <tr>\n      <th>646</th>\n      <td>38.600</td>\n      <td>southwest</td>\n    </tr>\n    <tr>\n      <th>647</th>\n      <td>33.400</td>\n      <td>southwest</td>\n    </tr>\n    <tr>\n      <th>648</th>\n      <td>44.700</td>\n      <td>southwest</td>\n    </tr>\n    <tr>\n      <th>649</th>\n      <td>25.800</td>\n      <td>southwest</td>\n    </tr>\n  </tbody>\n</table>\n<p>650 rows × 2 columns</p>\n</div>"
     },
     "execution_count": 276,
     "metadata": {},
     "output_type": "execute_result"
    }
   ],
   "source": [
    "bmi = pd.read_csv('../data/bmi.csv')\n",
    "bmi"
   ],
   "metadata": {
    "collapsed": false
   }
  },
  {
   "cell_type": "code",
   "execution_count": 277,
   "outputs": [],
   "source": [
    "sample1, sample2 = (bmi[bmi.region == region].bmi.sample(100) for region in bmi['region'].unique())\n",
    "import scipy.stats as sts"
   ],
   "metadata": {
    "collapsed": false
   }
  },
  {
   "cell_type": "code",
   "execution_count": 278,
   "outputs": [
    {
     "data": {
      "text/plain": "(ShapiroResult(statistic=0.9845351576805115, pvalue=0.29385897517204285),\n ShapiroResult(statistic=0.9900859594345093, pvalue=0.6715425252914429))"
     },
     "execution_count": 278,
     "metadata": {},
     "output_type": "execute_result"
    }
   ],
   "source": [
    "sts.shapiro(sample1), sts.shapiro(sample2)"
   ],
   "metadata": {
    "collapsed": false
   }
  },
  {
   "cell_type": "code",
   "execution_count": 279,
   "outputs": [
    {
     "data": {
      "text/plain": "BartlettResult(statistic=0.014986856217575594, pvalue=0.9025657536279025)"
     },
     "execution_count": 279,
     "metadata": {},
     "output_type": "execute_result"
    }
   ],
   "source": [
    "sts.bartlett(sample1, sample2)"
   ],
   "metadata": {
    "collapsed": false
   }
  },
  {
   "cell_type": "code",
   "execution_count": 280,
   "outputs": [
    {
     "data": {
      "text/plain": "Ttest_indResult(statistic=-4.549850586474612, pvalue=9.350603068074794e-06)"
     },
     "execution_count": 280,
     "metadata": {},
     "output_type": "execute_result"
    }
   ],
   "source": [
    "ttest = sts.ttest_ind(sample1, sample2)\n",
    "ttest"
   ],
   "metadata": {
    "collapsed": false
   }
  },
  {
   "cell_type": "markdown",
   "source": [
    "Task 6"
   ],
   "metadata": {
    "collapsed": false
   }
  },
  {
   "cell_type": "code",
   "execution_count": 281,
   "outputs": [
    {
     "data": {
      "text/plain": "   Observed  Expected\n1        97       100\n2        98       100\n3       109       100\n4        95       100\n5        97       100\n6       104       100",
      "text/html": "<div>\n<style scoped>\n    .dataframe tbody tr th:only-of-type {\n        vertical-align: middle;\n    }\n\n    .dataframe tbody tr th {\n        vertical-align: top;\n    }\n\n    .dataframe thead th {\n        text-align: right;\n    }\n</style>\n<table border=\"1\" class=\"dataframe\">\n  <thead>\n    <tr style=\"text-align: right;\">\n      <th></th>\n      <th>Observed</th>\n      <th>Expected</th>\n    </tr>\n  </thead>\n  <tbody>\n    <tr>\n      <th>1</th>\n      <td>97</td>\n      <td>100</td>\n    </tr>\n    <tr>\n      <th>2</th>\n      <td>98</td>\n      <td>100</td>\n    </tr>\n    <tr>\n      <th>3</th>\n      <td>109</td>\n      <td>100</td>\n    </tr>\n    <tr>\n      <th>4</th>\n      <td>95</td>\n      <td>100</td>\n    </tr>\n    <tr>\n      <th>5</th>\n      <td>97</td>\n      <td>100</td>\n    </tr>\n    <tr>\n      <th>6</th>\n      <td>104</td>\n      <td>100</td>\n    </tr>\n  </tbody>\n</table>\n</div>"
     },
     "execution_count": 281,
     "metadata": {},
     "output_type": "execute_result"
    }
   ],
   "source": [
    "throws = pd.DataFrame([97, 98, 109, 95, 97, 104], index=[1, 2, 3, 4, 5, 6], columns=['Observed'])\n",
    "throws['Expected']=100\n",
    "throws"
   ],
   "metadata": {
    "collapsed": false
   }
  },
  {
   "cell_type": "code",
   "execution_count": 282,
   "outputs": [
    {
     "data": {
      "text/plain": "Power_divergenceResult(statistic=1.44, pvalue=0.9198882077437889)"
     },
     "execution_count": 282,
     "metadata": {},
     "output_type": "execute_result"
    }
   ],
   "source": [
    "sts.chisquare(throws['Observed'], throws['Expected'])"
   ],
   "metadata": {
    "collapsed": false
   }
  },
  {
   "cell_type": "markdown",
   "source": [
    "Распределение равномерное, так как pvalue > 0.05"
   ],
   "metadata": {
    "collapsed": false
   }
  },
  {
   "cell_type": "markdown",
   "source": [
    "Task 7"
   ],
   "metadata": {
    "collapsed": false
   }
  },
  {
   "cell_type": "code",
   "execution_count": 283,
   "outputs": [
    {
     "data": {
      "text/plain": "                      Женат  Гражданский брак  Не состоит в отношениях\nПолный рабочий день      89                80                       35\nЧастичная занятость      17                22                       44\nВременно не работает     11                20                       35\nНа домохозяйстве         43                35                        6\nНа пенсии                22                 6                        8\nУчёба                     1                 4                       22",
      "text/html": "<div>\n<style scoped>\n    .dataframe tbody tr th:only-of-type {\n        vertical-align: middle;\n    }\n\n    .dataframe tbody tr th {\n        vertical-align: top;\n    }\n\n    .dataframe thead th {\n        text-align: right;\n    }\n</style>\n<table border=\"1\" class=\"dataframe\">\n  <thead>\n    <tr style=\"text-align: right;\">\n      <th></th>\n      <th>Женат</th>\n      <th>Гражданский брак</th>\n      <th>Не состоит в отношениях</th>\n    </tr>\n  </thead>\n  <tbody>\n    <tr>\n      <th>Полный рабочий день</th>\n      <td>89</td>\n      <td>80</td>\n      <td>35</td>\n    </tr>\n    <tr>\n      <th>Частичная занятость</th>\n      <td>17</td>\n      <td>22</td>\n      <td>44</td>\n    </tr>\n    <tr>\n      <th>Временно не работает</th>\n      <td>11</td>\n      <td>20</td>\n      <td>35</td>\n    </tr>\n    <tr>\n      <th>На домохозяйстве</th>\n      <td>43</td>\n      <td>35</td>\n      <td>6</td>\n    </tr>\n    <tr>\n      <th>На пенсии</th>\n      <td>22</td>\n      <td>6</td>\n      <td>8</td>\n    </tr>\n    <tr>\n      <th>Учёба</th>\n      <td>1</td>\n      <td>4</td>\n      <td>22</td>\n    </tr>\n  </tbody>\n</table>\n</div>"
     },
     "execution_count": 283,
     "metadata": {},
     "output_type": "execute_result"
    }
   ],
   "source": [
    "data = pd.DataFrame({'Женат': [89,17,11,43,22,1],\n",
    " 'Гражданский брак': [80,22,20,35,6,4],\n",
    " 'Не состоит в отношениях': [35,44,35,6,8,22]})\n",
    "data.index = ['Полный рабочий день','Частичная занятость','Временно не работает','На домохозяйстве','На пенсии','Учёба']\n",
    "data"
   ],
   "metadata": {
    "collapsed": false
   }
  },
  {
   "cell_type": "code",
   "execution_count": 284,
   "outputs": [
    {
     "data": {
      "text/plain": "(122.29654948595365,\n 1.7291616900960234e-21,\n 10,\n array([[74.664, 68.136, 61.2  ],\n        [30.378, 27.722, 24.9  ],\n        [24.156, 22.044, 19.8  ],\n        [30.744, 28.056, 25.2  ],\n        [13.176, 12.024, 10.8  ],\n        [ 9.882,  9.018,  8.1  ]]))"
     },
     "execution_count": 284,
     "metadata": {},
     "output_type": "execute_result"
    }
   ],
   "source": [
    "sts.chi2_contingency(data)"
   ],
   "metadata": {
    "collapsed": false
   }
  }
 ],
 "metadata": {
  "kernelspec": {
   "display_name": "Python 3",
   "language": "python",
   "name": "python3"
  },
  "language_info": {
   "codemirror_mode": {
    "name": "ipython",
    "version": 2
   },
   "file_extension": ".py",
   "mimetype": "text/x-python",
   "name": "python",
   "nbconvert_exporter": "python",
   "pygments_lexer": "ipython2",
   "version": "2.7.6"
  }
 },
 "nbformat": 4,
 "nbformat_minor": 0
}
