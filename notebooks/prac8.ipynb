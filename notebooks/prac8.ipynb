{
 "cells": [
  {
   "cell_type": "code",
   "execution_count": 2,
   "metadata": {
    "collapsed": true
   },
   "outputs": [],
   "source": [
    "import matplotlib.pyplot as plt\n",
    "import numpy as np\n",
    "import pandas as pd\n",
    "from pandas import DataFrame\n",
    "from sklearn.linear_model import LinearRegression\n",
    "from sklearn.metrics import r2_score"
   ]
  },
  {
   "cell_type": "code",
   "execution_count": 3,
   "outputs": [
    {
     "data": {
      "text/plain": "          День  Улица  Гараж\n0  Понедельник     80    100\n1      Вторник     98     82\n2        Среда     75    105\n3      Четверг     91     89\n4      Пятница     78    102",
      "text/html": "<div>\n<style scoped>\n    .dataframe tbody tr th:only-of-type {\n        vertical-align: middle;\n    }\n\n    .dataframe tbody tr th {\n        vertical-align: top;\n    }\n\n    .dataframe thead th {\n        text-align: right;\n    }\n</style>\n<table border=\"1\" class=\"dataframe\">\n  <thead>\n    <tr style=\"text-align: right;\">\n      <th></th>\n      <th>День</th>\n      <th>Улица</th>\n      <th>Гараж</th>\n    </tr>\n  </thead>\n  <tbody>\n    <tr>\n      <th>0</th>\n      <td>Понедельник</td>\n      <td>80</td>\n      <td>100</td>\n    </tr>\n    <tr>\n      <th>1</th>\n      <td>Вторник</td>\n      <td>98</td>\n      <td>82</td>\n    </tr>\n    <tr>\n      <th>2</th>\n      <td>Среда</td>\n      <td>75</td>\n      <td>105</td>\n    </tr>\n    <tr>\n      <th>3</th>\n      <td>Четверг</td>\n      <td>91</td>\n      <td>89</td>\n    </tr>\n    <tr>\n      <th>4</th>\n      <td>Пятница</td>\n      <td>78</td>\n      <td>102</td>\n    </tr>\n  </tbody>\n</table>\n</div>"
     },
     "execution_count": 3,
     "metadata": {},
     "output_type": "execute_result"
    }
   ],
   "source": [
    "data = pd.DataFrame({'День': ['Понедельник', 'Вторник', 'Среда', 'Четверг', 'Пятница'],\n",
    "                     'Улица': [80, 98, 75, 91, 78],\n",
    "                     'Гараж': [100, 82, 105, 89, 102]})\n",
    "data"
   ],
   "metadata": {
    "collapsed": false
   }
  },
  {
   "cell_type": "code",
   "execution_count": 4,
   "outputs": [
    {
     "data": {
      "text/plain": "array([[ 1., -1.],\n       [-1.,  1.]])"
     },
     "execution_count": 4,
     "metadata": {},
     "output_type": "execute_result"
    }
   ],
   "source": [
    "np.corrcoef(data['Улица'], data['Гараж'])"
   ],
   "metadata": {
    "collapsed": false
   }
  },
  {
   "cell_type": "code",
   "execution_count": 5,
   "outputs": [
    {
     "data": {
      "text/plain": "-0.9999999999999998"
     },
     "execution_count": 5,
     "metadata": {},
     "output_type": "execute_result"
    }
   ],
   "source": [
    "cr = data['Улица'].corr(data['Гараж'])\n",
    "cr"
   ],
   "metadata": {
    "collapsed": false
   }
  },
  {
   "cell_type": "code",
   "execution_count": 6,
   "outputs": [
    {
     "data": {
      "text/plain": "<matplotlib.collections.PathCollection at 0x18c76f91390>"
     },
     "execution_count": 6,
     "metadata": {},
     "output_type": "execute_result"
    },
    {
     "data": {
      "text/plain": "<Figure size 640x480 with 1 Axes>",
      "image/png": "[encoded data removed]"
     },
     "metadata": {},
     "output_type": "display_data"
    }
   ],
   "source": [
    "plt.grid(True)\n",
    "plt.title('Диаграмма рассеяния', fontsize=20)\n",
    "plt.xlabel('Улица')\n",
    "plt.ylabel('Гараж')\n",
    "plt.scatter(data['Улица'], data['Гараж'], marker='o', color='crimson')"
   ],
   "metadata": {
    "collapsed": false
   }
  },
  {
   "cell_type": "code",
   "execution_count": 41,
   "outputs": [
    {
     "data": {
      "text/plain": "          high       low      open  volumefrom      volumeto     close\n0       462.76    431.10    461.20   121531.64  5.431648e+07    441.78\n1       445.54    423.99    441.78   121990.88  5.327022e+07    437.59\n2       443.22    433.25    437.59    65785.54  2.884554e+07    437.03\n3       444.78    434.28    437.03    63247.04  2.787735e+07    442.43\n4       460.62    441.76    442.43    79604.01  3.609666e+07    452.98\n...        ...       ...       ...         ...           ...       ...\n1996  36790.39  33367.12  35798.57    52209.55  1.850311e+09  33582.86\n1997  34061.09  31034.35  33582.86    88483.79  2.890313e+09  33409.38\n1998  37528.42  32435.18  33409.38    92280.57  3.249554e+09  37391.58\n1999  38387.20  35821.05  37391.58    63052.49  2.338112e+09  36680.78\n2000  37665.85  35981.84  36680.78    33418.02  1.235391e+09  36843.33\n\n[2001 rows x 6 columns]",
      "text/html": "<div>\n<style scoped>\n    .dataframe tbody tr th:only-of-type {\n        vertical-align: middle;\n    }\n\n    .dataframe tbody tr th {\n        vertical-align: top;\n    }\n\n    .dataframe thead th {\n        text-align: right;\n    }\n</style>\n<table border=\"1\" class=\"dataframe\">\n  <thead>\n    <tr style=\"text-align: right;\">\n      <th></th>\n      <th>high</th>\n      <th>low</th>\n      <th>open</th>\n      <th>volumefrom</th>\n      <th>volumeto</th>\n      <th>close</th>\n    </tr>\n  </thead>\n  <tbody>\n    <tr>\n      <th>0</th>\n      <td>462.76</td>\n      <td>431.10</td>\n      <td>461.20</td>\n      <td>121531.64</td>\n      <td>5.431648e+07</td>\n      <td>441.78</td>\n    </tr>\n    <tr>\n      <th>1</th>\n      <td>445.54</td>\n      <td>423.99</td>\n      <td>441.78</td>\n      <td>121990.88</td>\n      <td>5.327022e+07</td>\n      <td>437.59</td>\n    </tr>\n    <tr>\n      <th>2</th>\n      <td>443.22</td>\n      <td>433.25</td>\n      <td>437.59</td>\n      <td>65785.54</td>\n      <td>2.884554e+07</td>\n      <td>437.03</td>\n    </tr>\n    <tr>\n      <th>3</th>\n      <td>444.78</td>\n      <td>434.28</td>\n      <td>437.03</td>\n      <td>63247.04</td>\n      <td>2.787735e+07</td>\n      <td>442.43</td>\n    </tr>\n    <tr>\n      <th>4</th>\n      <td>460.62</td>\n      <td>441.76</td>\n      <td>442.43</td>\n      <td>79604.01</td>\n      <td>3.609666e+07</td>\n      <td>452.98</td>\n    </tr>\n    <tr>\n      <th>...</th>\n      <td>...</td>\n      <td>...</td>\n      <td>...</td>\n      <td>...</td>\n      <td>...</td>\n      <td>...</td>\n    </tr>\n    <tr>\n      <th>1996</th>\n      <td>36790.39</td>\n      <td>33367.12</td>\n      <td>35798.57</td>\n      <td>52209.55</td>\n      <td>1.850311e+09</td>\n      <td>33582.86</td>\n    </tr>\n    <tr>\n      <th>1997</th>\n      <td>34061.09</td>\n      <td>31034.35</td>\n      <td>33582.86</td>\n      <td>88483.79</td>\n      <td>2.890313e+09</td>\n      <td>33409.38</td>\n    </tr>\n    <tr>\n      <th>1998</th>\n      <td>37528.42</td>\n      <td>32435.18</td>\n      <td>33409.38</td>\n      <td>92280.57</td>\n      <td>3.249554e+09</td>\n      <td>37391.58</td>\n    </tr>\n    <tr>\n      <th>1999</th>\n      <td>38387.20</td>\n      <td>35821.05</td>\n      <td>37391.58</td>\n      <td>63052.49</td>\n      <td>2.338112e+09</td>\n      <td>36680.78</td>\n    </tr>\n    <tr>\n      <th>2000</th>\n      <td>37665.85</td>\n      <td>35981.84</td>\n      <td>36680.78</td>\n      <td>33418.02</td>\n      <td>1.235391e+09</td>\n      <td>36843.33</td>\n    </tr>\n  </tbody>\n</table>\n<p>2001 rows × 6 columns</p>\n</div>"
     },
     "execution_count": 41,
     "metadata": {},
     "output_type": "execute_result"
    }
   ],
   "source": [
    "bitcoin = pd.read_csv('../data/bitcoin.csv')\n",
    "bitcoin = bitcoin.iloc[:,bitcoin.columns!='Unnamed: 0']\n",
    "bitcoin = bitcoin.iloc[:,bitcoin.columns!='time']\n",
    "bitcoin"
   ],
   "metadata": {
    "collapsed": false
   }
  },
  {
   "cell_type": "code",
   "execution_count": 42,
   "outputs": [
    {
     "data": {
      "text/plain": "          high       low      open  volumefrom      volumeto     close\n1987  37307.10  33666.06  35680.92    60616.25  2.127790e+09  34611.58\n1988  36481.62  33400.65  34611.58    37522.16  1.325408e+09  35662.59\n1989  37512.80  34202.86  35662.59    50306.62  1.821663e+09  37290.83\n1990  37910.19  35733.52  37290.83    44444.78  1.626269e+09  36683.51\n1991  38225.18  35935.34  36683.51    39948.44  1.494571e+09  37576.98\n1992  39482.46  37199.92  37576.98    41098.93  1.586641e+09  39229.66\n1993  39273.49  35617.03  39229.66    49661.48  1.837944e+09  36861.50\n1994  37911.76  34846.16  36861.50    39864.17  1.444089e+09  35538.40\n1995  36453.81  35264.34  35538.40    27469.69  9.862751e+08  35798.57\n1996  36790.39  33367.12  35798.57    52209.55  1.850311e+09  33582.86\n1997  34061.09  31034.35  33582.86    88483.79  2.890313e+09  33409.38\n1998  37528.42  32435.18  33409.38    92280.57  3.249554e+09  37391.58\n1999  38387.20  35821.05  37391.58    63052.49  2.338112e+09  36680.78\n2000  37665.85  35981.84  36680.78    33418.02  1.235391e+09  36843.33",
      "text/html": "<div>\n<style scoped>\n    .dataframe tbody tr th:only-of-type {\n        vertical-align: middle;\n    }\n\n    .dataframe tbody tr th {\n        vertical-align: top;\n    }\n\n    .dataframe thead th {\n        text-align: right;\n    }\n</style>\n<table border=\"1\" class=\"dataframe\">\n  <thead>\n    <tr style=\"text-align: right;\">\n      <th></th>\n      <th>high</th>\n      <th>low</th>\n      <th>open</th>\n      <th>volumefrom</th>\n      <th>volumeto</th>\n      <th>close</th>\n    </tr>\n  </thead>\n  <tbody>\n    <tr>\n      <th>1987</th>\n      <td>37307.10</td>\n      <td>33666.06</td>\n      <td>35680.92</td>\n      <td>60616.25</td>\n      <td>2.127790e+09</td>\n      <td>34611.58</td>\n    </tr>\n    <tr>\n      <th>1988</th>\n      <td>36481.62</td>\n      <td>33400.65</td>\n      <td>34611.58</td>\n      <td>37522.16</td>\n      <td>1.325408e+09</td>\n      <td>35662.59</td>\n    </tr>\n    <tr>\n      <th>1989</th>\n      <td>37512.80</td>\n      <td>34202.86</td>\n      <td>35662.59</td>\n      <td>50306.62</td>\n      <td>1.821663e+09</td>\n      <td>37290.83</td>\n    </tr>\n    <tr>\n      <th>1990</th>\n      <td>37910.19</td>\n      <td>35733.52</td>\n      <td>37290.83</td>\n      <td>44444.78</td>\n      <td>1.626269e+09</td>\n      <td>36683.51</td>\n    </tr>\n    <tr>\n      <th>1991</th>\n      <td>38225.18</td>\n      <td>35935.34</td>\n      <td>36683.51</td>\n      <td>39948.44</td>\n      <td>1.494571e+09</td>\n      <td>37576.98</td>\n    </tr>\n    <tr>\n      <th>1992</th>\n      <td>39482.46</td>\n      <td>37199.92</td>\n      <td>37576.98</td>\n      <td>41098.93</td>\n      <td>1.586641e+09</td>\n      <td>39229.66</td>\n    </tr>\n    <tr>\n      <th>1993</th>\n      <td>39273.49</td>\n      <td>35617.03</td>\n      <td>39229.66</td>\n      <td>49661.48</td>\n      <td>1.837944e+09</td>\n      <td>36861.50</td>\n    </tr>\n    <tr>\n      <th>1994</th>\n      <td>37911.76</td>\n      <td>34846.16</td>\n      <td>36861.50</td>\n      <td>39864.17</td>\n      <td>1.444089e+09</td>\n      <td>35538.40</td>\n    </tr>\n    <tr>\n      <th>1995</th>\n      <td>36453.81</td>\n      <td>35264.34</td>\n      <td>35538.40</td>\n      <td>27469.69</td>\n      <td>9.862751e+08</td>\n      <td>35798.57</td>\n    </tr>\n    <tr>\n      <th>1996</th>\n      <td>36790.39</td>\n      <td>33367.12</td>\n      <td>35798.57</td>\n      <td>52209.55</td>\n      <td>1.850311e+09</td>\n      <td>33582.86</td>\n    </tr>\n    <tr>\n      <th>1997</th>\n      <td>34061.09</td>\n      <td>31034.35</td>\n      <td>33582.86</td>\n      <td>88483.79</td>\n      <td>2.890313e+09</td>\n      <td>33409.38</td>\n    </tr>\n    <tr>\n      <th>1998</th>\n      <td>37528.42</td>\n      <td>32435.18</td>\n      <td>33409.38</td>\n      <td>92280.57</td>\n      <td>3.249554e+09</td>\n      <td>37391.58</td>\n    </tr>\n    <tr>\n      <th>1999</th>\n      <td>38387.20</td>\n      <td>35821.05</td>\n      <td>37391.58</td>\n      <td>63052.49</td>\n      <td>2.338112e+09</td>\n      <td>36680.78</td>\n    </tr>\n    <tr>\n      <th>2000</th>\n      <td>37665.85</td>\n      <td>35981.84</td>\n      <td>36680.78</td>\n      <td>33418.02</td>\n      <td>1.235391e+09</td>\n      <td>36843.33</td>\n    </tr>\n  </tbody>\n</table>\n</div>"
     },
     "execution_count": 42,
     "metadata": {},
     "output_type": "execute_result"
    }
   ],
   "source": [
    "drop_bitcoin = bitcoin.tail(14)\n",
    "drop_bitcoin"
   ],
   "metadata": {
    "collapsed": false
   }
  },
  {
   "cell_type": "code",
   "execution_count": 9,
   "outputs": [
    {
     "data": {
      "text/plain": "          time      high       low      open  volumefrom      volumeto  \\\n0     20151220    462.76    431.10    461.20   121531.64  5.431648e+07   \n1     20151221    445.54    423.99    441.78   121990.88  5.327022e+07   \n2     20151222    443.22    433.25    437.59    65785.54  2.884554e+07   \n3     20151223    444.78    434.28    437.03    63247.04  2.787735e+07   \n4     20151224    460.62    441.76    442.43    79604.01  3.609666e+07   \n...        ...       ...       ...       ...         ...           ...   \n1982  20210524  39945.35  34467.32  34716.84   106765.14  3.981461e+09   \n1983  20210525  39842.90  36509.09  38837.76    66530.67  2.529569e+09   \n1984  20210526  40854.81  37855.81  38387.36    66483.59  2.607760e+09   \n1985  20210527  40408.95  37211.84  39295.08    46474.62  1.804037e+09   \n1986  20210528  38879.60  34733.76  38538.84    85345.66  3.104364e+09   \n\n         close  \n0       441.78  \n1       437.59  \n2       437.03  \n3       442.43  \n4       452.98  \n...        ...  \n1982  38837.76  \n1983  38387.36  \n1984  39295.08  \n1985  38538.84  \n1986  35680.92  \n\n[1987 rows x 7 columns]",
      "text/html": "<div>\n<style scoped>\n    .dataframe tbody tr th:only-of-type {\n        vertical-align: middle;\n    }\n\n    .dataframe tbody tr th {\n        vertical-align: top;\n    }\n\n    .dataframe thead th {\n        text-align: right;\n    }\n</style>\n<table border=\"1\" class=\"dataframe\">\n  <thead>\n    <tr style=\"text-align: right;\">\n      <th></th>\n      <th>time</th>\n      <th>high</th>\n      <th>low</th>\n      <th>open</th>\n      <th>volumefrom</th>\n      <th>volumeto</th>\n      <th>close</th>\n    </tr>\n  </thead>\n  <tbody>\n    <tr>\n      <th>0</th>\n      <td>20151220</td>\n      <td>462.76</td>\n      <td>431.10</td>\n      <td>461.20</td>\n      <td>121531.64</td>\n      <td>5.431648e+07</td>\n      <td>441.78</td>\n    </tr>\n    <tr>\n      <th>1</th>\n      <td>20151221</td>\n      <td>445.54</td>\n      <td>423.99</td>\n      <td>441.78</td>\n      <td>121990.88</td>\n      <td>5.327022e+07</td>\n      <td>437.59</td>\n    </tr>\n    <tr>\n      <th>2</th>\n      <td>20151222</td>\n      <td>443.22</td>\n      <td>433.25</td>\n      <td>437.59</td>\n      <td>65785.54</td>\n      <td>2.884554e+07</td>\n      <td>437.03</td>\n    </tr>\n    <tr>\n      <th>3</th>\n      <td>20151223</td>\n      <td>444.78</td>\n      <td>434.28</td>\n      <td>437.03</td>\n      <td>63247.04</td>\n      <td>2.787735e+07</td>\n      <td>442.43</td>\n    </tr>\n    <tr>\n      <th>4</th>\n      <td>20151224</td>\n      <td>460.62</td>\n      <td>441.76</td>\n      <td>442.43</td>\n      <td>79604.01</td>\n      <td>3.609666e+07</td>\n      <td>452.98</td>\n    </tr>\n    <tr>\n      <th>...</th>\n      <td>...</td>\n      <td>...</td>\n      <td>...</td>\n      <td>...</td>\n      <td>...</td>\n      <td>...</td>\n      <td>...</td>\n    </tr>\n    <tr>\n      <th>1982</th>\n      <td>20210524</td>\n      <td>39945.35</td>\n      <td>34467.32</td>\n      <td>34716.84</td>\n      <td>106765.14</td>\n      <td>3.981461e+09</td>\n      <td>38837.76</td>\n    </tr>\n    <tr>\n      <th>1983</th>\n      <td>20210525</td>\n      <td>39842.90</td>\n      <td>36509.09</td>\n      <td>38837.76</td>\n      <td>66530.67</td>\n      <td>2.529569e+09</td>\n      <td>38387.36</td>\n    </tr>\n    <tr>\n      <th>1984</th>\n      <td>20210526</td>\n      <td>40854.81</td>\n      <td>37855.81</td>\n      <td>38387.36</td>\n      <td>66483.59</td>\n      <td>2.607760e+09</td>\n      <td>39295.08</td>\n    </tr>\n    <tr>\n      <th>1985</th>\n      <td>20210527</td>\n      <td>40408.95</td>\n      <td>37211.84</td>\n      <td>39295.08</td>\n      <td>46474.62</td>\n      <td>1.804037e+09</td>\n      <td>38538.84</td>\n    </tr>\n    <tr>\n      <th>1986</th>\n      <td>20210528</td>\n      <td>38879.60</td>\n      <td>34733.76</td>\n      <td>38538.84</td>\n      <td>85345.66</td>\n      <td>3.104364e+09</td>\n      <td>35680.92</td>\n    </tr>\n  </tbody>\n</table>\n<p>1987 rows × 7 columns</p>\n</div>"
     },
     "execution_count": 9,
     "metadata": {},
     "output_type": "execute_result"
    }
   ],
   "source": [
    "bitcoin.drop(bitcoin.tail(14).index,inplace=True)\n",
    "bitcoin"
   ],
   "metadata": {
    "collapsed": false
   }
  },
  {
   "cell_type": "code",
   "execution_count": 10,
   "outputs": [],
   "source": [
    "test = drop_bitcoin\n",
    "train = bitcoin"
   ],
   "metadata": {
    "collapsed": false
   }
  },
  {
   "cell_type": "code",
   "execution_count": 11,
   "outputs": [],
   "source": [
    "def split_xy(df):\n",
    "    X = DataFrame(df, columns=['time', 'high', 'low', 'open', 'volumefrom', 'volumeto'])\n",
    "    y = DataFrame(df, columns=['close'])\n",
    "    return X,y"
   ],
   "metadata": {
    "collapsed": false
   }
  },
  {
   "cell_type": "code",
   "execution_count": 12,
   "outputs": [
    {
     "data": {
      "text/plain": "LinearRegression()",
      "text/html": "<style>#sk-container-id-1 {color: black;background-color: white;}#sk-container-id-1 pre{padding: 0;}#sk-container-id-1 div.sk-toggleable {background-color: white;}#sk-container-id-1 label.sk-toggleable__label {cursor: pointer;display: block;width: 100%;margin-bottom: 0;padding: 0.3em;box-sizing: border-box;text-align: center;}#sk-container-id-1 label.sk-toggleable__label-arrow:before {content: \"▸\";float: left;margin-right: 0.25em;color: #696969;}#sk-container-id-1 label.sk-toggleable__label-arrow:hover:before {color: black;}#sk-container-id-1 div.sk-estimator:hover label.sk-toggleable__label-arrow:before {color: black;}#sk-container-id-1 div.sk-toggleable__content {max-height: 0;max-width: 0;overflow: hidden;text-align: left;background-color: #f0f8ff;}#sk-container-id-1 div.sk-toggleable__content pre {margin: 0.2em;color: black;border-radius: 0.25em;background-color: #f0f8ff;}#sk-container-id-1 input.sk-toggleable__control:checked~div.sk-toggleable__content {max-height: 200px;max-width: 100%;overflow: auto;}#sk-container-id-1 input.sk-toggleable__control:checked~label.sk-toggleable__label-arrow:before {content: \"▾\";}#sk-container-id-1 div.sk-estimator input.sk-toggleable__control:checked~label.sk-toggleable__label {background-color: #d4ebff;}#sk-container-id-1 div.sk-label input.sk-toggleable__control:checked~label.sk-toggleable__label {background-color: #d4ebff;}#sk-container-id-1 input.sk-hidden--visually {border: 0;clip: rect(1px 1px 1px 1px);clip: rect(1px, 1px, 1px, 1px);height: 1px;margin: -1px;overflow: hidden;padding: 0;position: absolute;width: 1px;}#sk-container-id-1 div.sk-estimator {font-family: monospace;background-color: #f0f8ff;border: 1px dotted black;border-radius: 0.25em;box-sizing: border-box;margin-bottom: 0.5em;}#sk-container-id-1 div.sk-estimator:hover {background-color: #d4ebff;}#sk-container-id-1 div.sk-parallel-item::after {content: \"\";width: 100%;border-bottom: 1px solid gray;flex-grow: 1;}#sk-container-id-1 div.sk-label:hover label.sk-toggleable__label {background-color: #d4ebff;}#sk-container-id-1 div.sk-serial::before {content: \"\";position: absolute;border-left: 1px solid gray;box-sizing: border-box;top: 0;bottom: 0;left: 50%;z-index: 0;}#sk-container-id-1 div.sk-serial {display: flex;flex-direction: column;align-items: center;background-color: white;padding-right: 0.2em;padding-left: 0.2em;position: relative;}#sk-container-id-1 div.sk-item {position: relative;z-index: 1;}#sk-container-id-1 div.sk-parallel {display: flex;align-items: stretch;justify-content: center;background-color: white;position: relative;}#sk-container-id-1 div.sk-item::before, #sk-container-id-1 div.sk-parallel-item::before {content: \"\";position: absolute;border-left: 1px solid gray;box-sizing: border-box;top: 0;bottom: 0;left: 50%;z-index: -1;}#sk-container-id-1 div.sk-parallel-item {display: flex;flex-direction: column;z-index: 1;position: relative;background-color: white;}#sk-container-id-1 div.sk-parallel-item:first-child::after {align-self: flex-end;width: 50%;}#sk-container-id-1 div.sk-parallel-item:last-child::after {align-self: flex-start;width: 50%;}#sk-container-id-1 div.sk-parallel-item:only-child::after {width: 0;}#sk-container-id-1 div.sk-dashed-wrapped {border: 1px dashed gray;margin: 0 0.4em 0.5em 0.4em;box-sizing: border-box;padding-bottom: 0.4em;background-color: white;}#sk-container-id-1 div.sk-label label {font-family: monospace;font-weight: bold;display: inline-block;line-height: 1.2em;}#sk-container-id-1 div.sk-label-container {text-align: center;}#sk-container-id-1 div.sk-container {/* jupyter's `normalize.less` sets `[hidden] { display: none; }` but bootstrap.min.css set `[hidden] { display: none !important; }` so we also need the `!important` here to be able to override the default hidden behavior on the sphinx rendered scikit-learn.org. See: https://github.com/scikit-learn/scikit-learn/issues/21755 */display: inline-block !important;position: relative;}#sk-container-id-1 div.sk-text-repr-fallback {display: none;}</style><div id=\"sk-container-id-1\" class=\"sk-top-container\"><div class=\"sk-text-repr-fallback\"><pre>LinearRegression()</pre><b>In a Jupyter environment, please rerun this cell to show the HTML representation or trust the notebook. <br />On GitHub, the HTML representation is unable to render, please try loading this page with nbviewer.org.</b></div><div class=\"sk-container\" hidden><div class=\"sk-item\"><div class=\"sk-estimator sk-toggleable\"><input class=\"sk-toggleable__control sk-hidden--visually\" id=\"sk-estimator-id-1\" type=\"checkbox\" checked><label for=\"sk-estimator-id-1\" class=\"sk-toggleable__label sk-toggleable__label-arrow\">LinearRegression</label><div class=\"sk-toggleable__content\"><pre>LinearRegression()</pre></div></div></div></div></div>"
     },
     "execution_count": 12,
     "metadata": {},
     "output_type": "execute_result"
    }
   ],
   "source": [
    "regression = LinearRegression()\n",
    "X_train,y_train = split_xy(train)\n",
    "regression.fit(X_train,y_train)"
   ],
   "metadata": {
    "collapsed": false
   }
  },
  {
   "cell_type": "code",
   "execution_count": 13,
   "outputs": [
    {
     "data": {
      "text/plain": "         close   predictions\n1987  34611.58  35635.329209\n1988  35662.59  35198.303732\n1989  37290.83  36126.916121\n1990  36683.51  36693.843383\n1991  37576.98  37339.335661\n1992  39229.66  38774.423438\n1993  36861.50  36803.390347\n1994  35538.40  36264.799897\n1995  35798.57  35967.093520\n1996  33582.86  34938.181686\n1997  33409.38  32402.071797\n1998  37391.58  36180.750497\n1999  36680.78  37177.646679\n2000  36843.33  36901.317291",
      "text/html": "<div>\n<style scoped>\n    .dataframe tbody tr th:only-of-type {\n        vertical-align: middle;\n    }\n\n    .dataframe tbody tr th {\n        vertical-align: top;\n    }\n\n    .dataframe thead th {\n        text-align: right;\n    }\n</style>\n<table border=\"1\" class=\"dataframe\">\n  <thead>\n    <tr style=\"text-align: right;\">\n      <th></th>\n      <th>close</th>\n      <th>predictions</th>\n    </tr>\n  </thead>\n  <tbody>\n    <tr>\n      <th>1987</th>\n      <td>34611.58</td>\n      <td>35635.329209</td>\n    </tr>\n    <tr>\n      <th>1988</th>\n      <td>35662.59</td>\n      <td>35198.303732</td>\n    </tr>\n    <tr>\n      <th>1989</th>\n      <td>37290.83</td>\n      <td>36126.916121</td>\n    </tr>\n    <tr>\n      <th>1990</th>\n      <td>36683.51</td>\n      <td>36693.843383</td>\n    </tr>\n    <tr>\n      <th>1991</th>\n      <td>37576.98</td>\n      <td>37339.335661</td>\n    </tr>\n    <tr>\n      <th>1992</th>\n      <td>39229.66</td>\n      <td>38774.423438</td>\n    </tr>\n    <tr>\n      <th>1993</th>\n      <td>36861.50</td>\n      <td>36803.390347</td>\n    </tr>\n    <tr>\n      <th>1994</th>\n      <td>35538.40</td>\n      <td>36264.799897</td>\n    </tr>\n    <tr>\n      <th>1995</th>\n      <td>35798.57</td>\n      <td>35967.093520</td>\n    </tr>\n    <tr>\n      <th>1996</th>\n      <td>33582.86</td>\n      <td>34938.181686</td>\n    </tr>\n    <tr>\n      <th>1997</th>\n      <td>33409.38</td>\n      <td>32402.071797</td>\n    </tr>\n    <tr>\n      <th>1998</th>\n      <td>37391.58</td>\n      <td>36180.750497</td>\n    </tr>\n    <tr>\n      <th>1999</th>\n      <td>36680.78</td>\n      <td>37177.646679</td>\n    </tr>\n    <tr>\n      <th>2000</th>\n      <td>36843.33</td>\n      <td>36901.317291</td>\n    </tr>\n  </tbody>\n</table>\n</div>"
     },
     "execution_count": 13,
     "metadata": {},
     "output_type": "execute_result"
    }
   ],
   "source": [
    "X_test, y_test = split_xy(test)\n",
    "predictions = regression.predict(X_test)\n",
    "y_test.assign(predictions=predictions)"
   ],
   "metadata": {
    "collapsed": false
   }
  },
  {
   "cell_type": "code",
   "execution_count": 14,
   "outputs": [
    {
     "data": {
      "text/plain": "0.7575781340756563"
     },
     "execution_count": 14,
     "metadata": {},
     "output_type": "execute_result"
    }
   ],
   "source": [
    "r2_score(y_test, predictions)"
   ],
   "metadata": {
    "collapsed": false
   }
  },
  {
   "cell_type": "code",
   "execution_count": 15,
   "outputs": [
    {
     "data": {
      "text/plain": "array([[ 2.28093683e-04,  7.75877195e-01,  6.80017430e-01,\n        -4.63811394e-01, -8.01129448e-04,  1.62696369e-07]])"
     },
     "execution_count": 15,
     "metadata": {},
     "output_type": "execute_result"
    }
   ],
   "source": [
    "regression.coef_"
   ],
   "metadata": {
    "collapsed": false
   }
  },
  {
   "cell_type": "code",
   "execution_count": 16,
   "outputs": [
    {
     "data": {
      "text/plain": "array([-4562.20549055])"
     },
     "execution_count": 16,
     "metadata": {},
     "output_type": "execute_result"
    }
   ],
   "source": [
    "regression.intercept_"
   ],
   "metadata": {
    "collapsed": false
   }
  },
  {
   "cell_type": "code",
   "execution_count": 17,
   "outputs": [
    {
     "data": {
      "text/plain": "<matplotlib.collections.PathCollection at 0x18c778c88b0>"
     },
     "execution_count": 17,
     "metadata": {},
     "output_type": "execute_result"
    },
    {
     "data": {
      "text/plain": "<Figure size 640x480 with 1 Axes>",
      "image/png": "[encoded data removed]"
     },
     "metadata": {},
     "output_type": "display_data"
    }
   ],
   "source": [
    "plt.grid(True)\n",
    "plt.title('Диаграмма рассеяния', fontsize=20)\n",
    "plt.xlabel('close')\n",
    "plt.ylabel('prediction')\n",
    "plt.scatter(y_test, predictions, marker='o', color='crimson')"
   ],
   "metadata": {
    "collapsed": false
   }
  },
  {
   "cell_type": "code",
   "execution_count": 18,
   "outputs": [
    {
     "data": {
      "text/plain": "     Area  Room  Parking  Warehouse  Elevator             Address  \\\n0      63     1     True       True      True             Shahran   \n1      60     1     True       True      True             Shahran   \n2      79     2     True       True      True              Pardis   \n3      95     2     True       True      True       Shahrake Qods   \n4     123     2     True       True      True      Shahrake Gharb   \n...   ...   ...      ...        ...       ...                 ...   \n3474   86     2     True       True      True  Southern Janatabad   \n3475   83     2     True       True      True            Niavaran   \n3476   75     2    False      False     False              Parand   \n3477  105     2     True       True      True              Dorous   \n3478   82     2    False       True      True              Parand   \n\n             Price  Price(USD)  \n0     1.850000e+09    61666.67  \n1     1.850000e+09    61666.67  \n2     5.500000e+08    18333.33  \n3     9.025000e+08    30083.33  \n4     7.000000e+09   233333.33  \n...            ...         ...  \n3474  3.500000e+09   116666.67  \n3475  6.800000e+09   226666.67  \n3476  3.650000e+08    12166.67  \n3477  5.600000e+09   186666.67  \n3478  3.600000e+08    12000.00  \n\n[3479 rows x 8 columns]",
      "text/html": "<div>\n<style scoped>\n    .dataframe tbody tr th:only-of-type {\n        vertical-align: middle;\n    }\n\n    .dataframe tbody tr th {\n        vertical-align: top;\n    }\n\n    .dataframe thead th {\n        text-align: right;\n    }\n</style>\n<table border=\"1\" class=\"dataframe\">\n  <thead>\n    <tr style=\"text-align: right;\">\n      <th></th>\n      <th>Area</th>\n      <th>Room</th>\n      <th>Parking</th>\n      <th>Warehouse</th>\n      <th>Elevator</th>\n      <th>Address</th>\n      <th>Price</th>\n      <th>Price(USD)</th>\n    </tr>\n  </thead>\n  <tbody>\n    <tr>\n      <th>0</th>\n      <td>63</td>\n      <td>1</td>\n      <td>True</td>\n      <td>True</td>\n      <td>True</td>\n      <td>Shahran</td>\n      <td>1.850000e+09</td>\n      <td>61666.67</td>\n    </tr>\n    <tr>\n      <th>1</th>\n      <td>60</td>\n      <td>1</td>\n      <td>True</td>\n      <td>True</td>\n      <td>True</td>\n      <td>Shahran</td>\n      <td>1.850000e+09</td>\n      <td>61666.67</td>\n    </tr>\n    <tr>\n      <th>2</th>\n      <td>79</td>\n      <td>2</td>\n      <td>True</td>\n      <td>True</td>\n      <td>True</td>\n      <td>Pardis</td>\n      <td>5.500000e+08</td>\n      <td>18333.33</td>\n    </tr>\n    <tr>\n      <th>3</th>\n      <td>95</td>\n      <td>2</td>\n      <td>True</td>\n      <td>True</td>\n      <td>True</td>\n      <td>Shahrake Qods</td>\n      <td>9.025000e+08</td>\n      <td>30083.33</td>\n    </tr>\n    <tr>\n      <th>4</th>\n      <td>123</td>\n      <td>2</td>\n      <td>True</td>\n      <td>True</td>\n      <td>True</td>\n      <td>Shahrake Gharb</td>\n      <td>7.000000e+09</td>\n      <td>233333.33</td>\n    </tr>\n    <tr>\n      <th>...</th>\n      <td>...</td>\n      <td>...</td>\n      <td>...</td>\n      <td>...</td>\n      <td>...</td>\n      <td>...</td>\n      <td>...</td>\n      <td>...</td>\n    </tr>\n    <tr>\n      <th>3474</th>\n      <td>86</td>\n      <td>2</td>\n      <td>True</td>\n      <td>True</td>\n      <td>True</td>\n      <td>Southern Janatabad</td>\n      <td>3.500000e+09</td>\n      <td>116666.67</td>\n    </tr>\n    <tr>\n      <th>3475</th>\n      <td>83</td>\n      <td>2</td>\n      <td>True</td>\n      <td>True</td>\n      <td>True</td>\n      <td>Niavaran</td>\n      <td>6.800000e+09</td>\n      <td>226666.67</td>\n    </tr>\n    <tr>\n      <th>3476</th>\n      <td>75</td>\n      <td>2</td>\n      <td>False</td>\n      <td>False</td>\n      <td>False</td>\n      <td>Parand</td>\n      <td>3.650000e+08</td>\n      <td>12166.67</td>\n    </tr>\n    <tr>\n      <th>3477</th>\n      <td>105</td>\n      <td>2</td>\n      <td>True</td>\n      <td>True</td>\n      <td>True</td>\n      <td>Dorous</td>\n      <td>5.600000e+09</td>\n      <td>186666.67</td>\n    </tr>\n    <tr>\n      <th>3478</th>\n      <td>82</td>\n      <td>2</td>\n      <td>False</td>\n      <td>True</td>\n      <td>True</td>\n      <td>Parand</td>\n      <td>3.600000e+08</td>\n      <td>12000.00</td>\n    </tr>\n  </tbody>\n</table>\n<p>3479 rows × 8 columns</p>\n</div>"
     },
     "execution_count": 18,
     "metadata": {},
     "output_type": "execute_result"
    }
   ],
   "source": [
    "house = pd.read_csv(\"../data/housePrice.csv\")\n",
    "house"
   ],
   "metadata": {
    "collapsed": false
   }
  },
  {
   "cell_type": "code",
   "execution_count": 19,
   "outputs": [
    {
     "data": {
      "text/plain": "Area          0.00000\nRoom          0.00000\nParking       0.00000\nWarehouse     0.00000\nElevator      0.00000\nAddress       0.66111\nPrice(USD)    0.00000\ndtype: float64"
     },
     "execution_count": 19,
     "metadata": {},
     "output_type": "execute_result"
    }
   ],
   "source": [
    "house = house.iloc[:,house.columns!='Price']\n",
    "house.isna().mean() * 100"
   ],
   "metadata": {
    "collapsed": false
   }
  },
  {
   "cell_type": "code",
   "execution_count": 20,
   "outputs": [
    {
     "data": {
      "text/plain": "192"
     },
     "execution_count": 20,
     "metadata": {},
     "output_type": "execute_result"
    }
   ],
   "source": [
    "house['Address'].nunique()"
   ],
   "metadata": {
    "collapsed": false
   }
  },
  {
   "cell_type": "code",
   "execution_count": 21,
   "outputs": [
    {
     "name": "stderr",
     "output_type": "stream",
     "text": [
      "C:\\Users\\Alexey\\AppData\\Local\\Temp\\ipykernel_10376\\2319160510.py:1: SettingWithCopyWarning: \n",
      "A value is trying to be set on a copy of a slice from a DataFrame\n",
      "\n",
      "See the caveats in the documentation: https://pandas.pydata.org/pandas-docs/stable/user_guide/indexing.html#returning-a-view-versus-a-copy\n",
      "  house.Address.fillna(house.Address.describe().top, inplace=True)\n"
     ]
    },
    {
     "data": {
      "text/plain": "Area          0.0\nRoom          0.0\nParking       0.0\nWarehouse     0.0\nElevator      0.0\nAddress       0.0\nPrice(USD)    0.0\ndtype: float64"
     },
     "execution_count": 21,
     "metadata": {},
     "output_type": "execute_result"
    }
   ],
   "source": [
    "house.Address.fillna(house.Address.describe().top, inplace=True)\n",
    "house.isna().mean() * 100"
   ],
   "metadata": {
    "collapsed": false
   }
  },
  {
   "cell_type": "code",
   "execution_count": 22,
   "outputs": [
    {
     "data": {
      "text/plain": "array(['63', '60', '79', '95', '123', '70', '87', '59', '54', '71', '68',\n       '64', '136', '155', '140', '42', '93', '65', '99', '105', '160',\n       '77', '110', '100', '90', '49', '96', '67', '62', '55', '129',\n       '109', '58', '150', '130', '88', '51', '113', '98', '75', '61',\n       '72', '122', '215', '101', '53', '74', '114', '151', '300', '76',\n       '148', '40', '128', '94', '97', '137', '85', '78', '48', '82',\n       '120', '139', '66', '80', '44', '50', '121', '141', '127', '180',\n       '158', '144', '245', '190', '108', '117', '200', '125', '236',\n       '220', '86', '84', '106', '320', '154', '210', '124', '83', '270',\n       '104', '103', '165', '135', '132', '81', '153', '166', '175',\n       '170', '115', '118', '116', '43', '230', '91', '126', '450', '500',\n       '145', '112', '192', '164', '265', '92', '143', '350', '335',\n       '235', '225', '221', '312', '188', '198', '650', '179', '256',\n       '257', '167', '246', '168', '280', '69', '400', '660', '213', '57',\n       '102', '133', '73', '134', '191', '282', '89', '111', '147', '157',\n       '283', ' 3,310,000,000 ', '863', '415', '173', '162', '156', '171',\n       '261', '45', '161', ' 16,160,000,000 ', '46', '107', '420', '131',\n       '185', '250', '216', ' 1,000 ', '680', '750', '202', '138', '38',\n       '56', '197', '52', '365', '181', '146', '240', '142', '303', '203',\n       '204', '255', '194', '600', '377', '231', '195', '176', '290',\n       '149', '238', '226', '574', '360', '37', '465', '403', '405', '41',\n       '228', '177', '310', '193', ' 8,400,000,000 ', '287', '929', '550',\n       '47', '380', '182', '119', '705', '222', '152', '209', '232',\n       '900', '201', '174', ' 3,600 ', '39', '172', '35', '32', '211',\n       '258', '700', '163', '208', '253', '33', ' 2,550,000,000 ', '330',\n       '212', '345', '530', '630', '30', '205', '285', '186'],\n      dtype=object)"
     },
     "execution_count": 22,
     "metadata": {},
     "output_type": "execute_result"
    }
   ],
   "source": [
    "house.Area.unique()"
   ],
   "metadata": {
    "collapsed": false
   }
  },
  {
   "cell_type": "code",
   "execution_count": 23,
   "outputs": [
    {
     "data": {
      "text/plain": "208"
     },
     "execution_count": 23,
     "metadata": {},
     "output_type": "execute_result"
    }
   ],
   "source": [
    "house.duplicated().sum()"
   ],
   "metadata": {
    "collapsed": false
   }
  },
  {
   "cell_type": "code",
   "execution_count": 24,
   "outputs": [
    {
     "data": {
      "text/plain": "0"
     },
     "execution_count": 24,
     "metadata": {},
     "output_type": "execute_result"
    }
   ],
   "source": [
    "house = house.drop_duplicates()\n",
    "house.duplicated().sum()"
   ],
   "metadata": {
    "collapsed": false
   }
  },
  {
   "cell_type": "code",
   "execution_count": 25,
   "outputs": [
    {
     "data": {
      "text/plain": "     Area  Room  Parking  Warehouse  Elevator             Address  Price(USD)\n2419  115     2     True       True      True         Saadat Abad   200000.00\n3455   80     2    False       True      True            Shahryar    13666.67\n330   350     3     True       True      True          Zaferanieh  1750000.00\n737   145     3     True       True      True            Dezashib   410000.00\n302    60     1     True       True     False  Southern Janatabad    76000.00\n217   132     3     True       True      True          Gheitarieh   208333.33\n2125   68     2     True       True      True        Shahr-e-Ziba    71666.67\n1794  119     2     True       True      True             Shahran   156666.67\n840   145     3     True       True      True               Punak   253333.33\n3129   42     1    False       True     False              Shoosh    30666.67",
      "text/html": "<div>\n<style scoped>\n    .dataframe tbody tr th:only-of-type {\n        vertical-align: middle;\n    }\n\n    .dataframe tbody tr th {\n        vertical-align: top;\n    }\n\n    .dataframe thead th {\n        text-align: right;\n    }\n</style>\n<table border=\"1\" class=\"dataframe\">\n  <thead>\n    <tr style=\"text-align: right;\">\n      <th></th>\n      <th>Area</th>\n      <th>Room</th>\n      <th>Parking</th>\n      <th>Warehouse</th>\n      <th>Elevator</th>\n      <th>Address</th>\n      <th>Price(USD)</th>\n    </tr>\n  </thead>\n  <tbody>\n    <tr>\n      <th>2419</th>\n      <td>115</td>\n      <td>2</td>\n      <td>True</td>\n      <td>True</td>\n      <td>True</td>\n      <td>Saadat Abad</td>\n      <td>200000.00</td>\n    </tr>\n    <tr>\n      <th>3455</th>\n      <td>80</td>\n      <td>2</td>\n      <td>False</td>\n      <td>True</td>\n      <td>True</td>\n      <td>Shahryar</td>\n      <td>13666.67</td>\n    </tr>\n    <tr>\n      <th>330</th>\n      <td>350</td>\n      <td>3</td>\n      <td>True</td>\n      <td>True</td>\n      <td>True</td>\n      <td>Zaferanieh</td>\n      <td>1750000.00</td>\n    </tr>\n    <tr>\n      <th>737</th>\n      <td>145</td>\n      <td>3</td>\n      <td>True</td>\n      <td>True</td>\n      <td>True</td>\n      <td>Dezashib</td>\n      <td>410000.00</td>\n    </tr>\n    <tr>\n      <th>302</th>\n      <td>60</td>\n      <td>1</td>\n      <td>True</td>\n      <td>True</td>\n      <td>False</td>\n      <td>Southern Janatabad</td>\n      <td>76000.00</td>\n    </tr>\n    <tr>\n      <th>217</th>\n      <td>132</td>\n      <td>3</td>\n      <td>True</td>\n      <td>True</td>\n      <td>True</td>\n      <td>Gheitarieh</td>\n      <td>208333.33</td>\n    </tr>\n    <tr>\n      <th>2125</th>\n      <td>68</td>\n      <td>2</td>\n      <td>True</td>\n      <td>True</td>\n      <td>True</td>\n      <td>Shahr-e-Ziba</td>\n      <td>71666.67</td>\n    </tr>\n    <tr>\n      <th>1794</th>\n      <td>119</td>\n      <td>2</td>\n      <td>True</td>\n      <td>True</td>\n      <td>True</td>\n      <td>Shahran</td>\n      <td>156666.67</td>\n    </tr>\n    <tr>\n      <th>840</th>\n      <td>145</td>\n      <td>3</td>\n      <td>True</td>\n      <td>True</td>\n      <td>True</td>\n      <td>Punak</td>\n      <td>253333.33</td>\n    </tr>\n    <tr>\n      <th>3129</th>\n      <td>42</td>\n      <td>1</td>\n      <td>False</td>\n      <td>True</td>\n      <td>False</td>\n      <td>Shoosh</td>\n      <td>30666.67</td>\n    </tr>\n  </tbody>\n</table>\n</div>"
     },
     "execution_count": 25,
     "metadata": {},
     "output_type": "execute_result"
    }
   ],
   "source": [
    "house.sample(10)"
   ],
   "metadata": {
    "collapsed": false
   }
  },
  {
   "cell_type": "code",
   "execution_count": 26,
   "outputs": [
    {
     "name": "stdout",
     "output_type": "stream",
     "text": [
      "<class 'pandas.core.frame.DataFrame'>\n",
      "Int64Index: 3271 entries, 0 to 3478\n",
      "Data columns (total 7 columns):\n",
      " #   Column      Non-Null Count  Dtype  \n",
      "---  ------      --------------  -----  \n",
      " 0   Area        3271 non-null   object \n",
      " 1   Room        3271 non-null   int64  \n",
      " 2   Parking     3271 non-null   int64  \n",
      " 3   Warehouse   3271 non-null   int64  \n",
      " 4   Elevator    3271 non-null   int64  \n",
      " 5   Address     3271 non-null   object \n",
      " 6   Price(USD)  3271 non-null   float64\n",
      "dtypes: float64(1), int64(4), object(2)\n",
      "memory usage: 204.4+ KB\n"
     ]
    }
   ],
   "source": [
    "house.replace(True, 1, inplace=True)\n",
    "house.replace(False, 0, inplace=True)\n",
    "house.info()"
   ],
   "metadata": {
    "collapsed": false
   }
  },
  {
   "cell_type": "code",
   "execution_count": 27,
   "outputs": [
    {
     "data": {
      "text/plain": "0        63\n1        60\n2        79\n3        95\n4       123\n       ... \n3473     63\n3474     86\n3475     83\n3477    105\n3478     82\nName: Area, Length: 3271, dtype: object"
     },
     "execution_count": 27,
     "metadata": {},
     "output_type": "execute_result"
    }
   ],
   "source": [
    "house['Area']"
   ],
   "metadata": {
    "collapsed": false
   }
  },
  {
   "cell_type": "code",
   "execution_count": 28,
   "outputs": [],
   "source": [
    "house['Area'] = pd.to_numeric(house['Area'], errors='coerce', downcast='integer')\n",
    "house = house.dropna()"
   ],
   "metadata": {
    "collapsed": false
   }
  },
  {
   "cell_type": "code",
   "execution_count": 29,
   "outputs": [
    {
     "data": {
      "text/plain": "       Area  Room  Parking  Warehouse  Elevator  Price(USD)  Address_Abazar  \\\n0      63.0     1        1          1         1    61666.67               0   \n1      60.0     1        1          1         1    61666.67               0   \n2      79.0     2        1          1         1    18333.33               0   \n3      95.0     2        1          1         1    30083.33               0   \n4     123.0     2        1          1         1   233333.33               0   \n...     ...   ...      ...        ...       ...         ...             ...   \n3473   63.0     1        1          1         0    63000.00               0   \n3474   86.0     2        1          1         1   116666.67               0   \n3475   83.0     2        1          1         1   226666.67               0   \n3477  105.0     2        1          1         1   186666.67               0   \n3478   82.0     2        0          1         1    12000.00               0   \n\n      Address_Abbasabad  Address_Absard  Address_Abuzar  ...  \\\n0                     0               0               0  ...   \n1                     0               0               0  ...   \n2                     0               0               0  ...   \n3                     0               0               0  ...   \n4                     0               0               0  ...   \n...                 ...             ...             ...  ...   \n3473                  0               0               0  ...   \n3474                  0               0               0  ...   \n3475                  0               0               0  ...   \n3477                  0               0               0  ...   \n3478                  0               0               0  ...   \n\n      Address_Waterfall  Address_West Ferdows Boulevard  Address_West Pars  \\\n0                     0                               0                  0   \n1                     0                               0                  0   \n2                     0                               0                  0   \n3                     0                               0                  0   \n4                     0                               0                  0   \n...                 ...                             ...                ...   \n3473                  0                               0                  0   \n3474                  0                               0                  0   \n3475                  0                               0                  0   \n3477                  0                               0                  0   \n3478                  0                               0                  0   \n\n      Address_Yaftabad  Address_Yakhchiabad  Address_Yousef Abad  \\\n0                    0                    0                    0   \n1                    0                    0                    0   \n2                    0                    0                    0   \n3                    0                    0                    0   \n4                    0                    0                    0   \n...                ...                  ...                  ...   \n3473                 0                    0                    0   \n3474                 0                    0                    0   \n3475                 0                    0                    0   \n3477                 0                    0                    0   \n3478                 0                    0                    0   \n\n      Address_Zafar  Address_Zaferanieh  Address_Zargandeh  Address_Zibadasht  \n0                 0                   0                  0                  0  \n1                 0                   0                  0                  0  \n2                 0                   0                  0                  0  \n3                 0                   0                  0                  0  \n4                 0                   0                  0                  0  \n...             ...                 ...                ...                ...  \n3473              0                   0                  0                  0  \n3474              0                   0                  0                  0  \n3475              0                   0                  0                  0  \n3477              0                   0                  0                  0  \n3478              0                   0                  0                  0  \n\n[3265 rows x 198 columns]",
      "text/html": "<div>\n<style scoped>\n    .dataframe tbody tr th:only-of-type {\n        vertical-align: middle;\n    }\n\n    .dataframe tbody tr th {\n        vertical-align: top;\n    }\n\n    .dataframe thead th {\n        text-align: right;\n    }\n</style>\n<table border=\"1\" class=\"dataframe\">\n  <thead>\n    <tr style=\"text-align: right;\">\n      <th></th>\n      <th>Area</th>\n      <th>Room</th>\n      <th>Parking</th>\n      <th>Warehouse</th>\n      <th>Elevator</th>\n      <th>Price(USD)</th>\n      <th>Address_Abazar</th>\n      <th>Address_Abbasabad</th>\n      <th>Address_Absard</th>\n      <th>Address_Abuzar</th>\n      <th>...</th>\n      <th>Address_Waterfall</th>\n      <th>Address_West Ferdows Boulevard</th>\n      <th>Address_West Pars</th>\n      <th>Address_Yaftabad</th>\n      <th>Address_Yakhchiabad</th>\n      <th>Address_Yousef Abad</th>\n      <th>Address_Zafar</th>\n      <th>Address_Zaferanieh</th>\n      <th>Address_Zargandeh</th>\n      <th>Address_Zibadasht</th>\n    </tr>\n  </thead>\n  <tbody>\n    <tr>\n      <th>0</th>\n      <td>63.0</td>\n      <td>1</td>\n      <td>1</td>\n      <td>1</td>\n      <td>1</td>\n      <td>61666.67</td>\n      <td>0</td>\n      <td>0</td>\n      <td>0</td>\n      <td>0</td>\n      <td>...</td>\n      <td>0</td>\n      <td>0</td>\n      <td>0</td>\n      <td>0</td>\n      <td>0</td>\n      <td>0</td>\n      <td>0</td>\n      <td>0</td>\n      <td>0</td>\n      <td>0</td>\n    </tr>\n    <tr>\n      <th>1</th>\n      <td>60.0</td>\n      <td>1</td>\n      <td>1</td>\n      <td>1</td>\n      <td>1</td>\n      <td>61666.67</td>\n      <td>0</td>\n      <td>0</td>\n      <td>0</td>\n      <td>0</td>\n      <td>...</td>\n      <td>0</td>\n      <td>0</td>\n      <td>0</td>\n      <td>0</td>\n      <td>0</td>\n      <td>0</td>\n      <td>0</td>\n      <td>0</td>\n      <td>0</td>\n      <td>0</td>\n    </tr>\n    <tr>\n      <th>2</th>\n      <td>79.0</td>\n      <td>2</td>\n      <td>1</td>\n      <td>1</td>\n      <td>1</td>\n      <td>18333.33</td>\n      <td>0</td>\n      <td>0</td>\n      <td>0</td>\n      <td>0</td>\n      <td>...</td>\n      <td>0</td>\n      <td>0</td>\n      <td>0</td>\n      <td>0</td>\n      <td>0</td>\n      <td>0</td>\n      <td>0</td>\n      <td>0</td>\n      <td>0</td>\n      <td>0</td>\n    </tr>\n    <tr>\n      <th>3</th>\n      <td>95.0</td>\n      <td>2</td>\n      <td>1</td>\n      <td>1</td>\n      <td>1</td>\n      <td>30083.33</td>\n      <td>0</td>\n      <td>0</td>\n      <td>0</td>\n      <td>0</td>\n      <td>...</td>\n      <td>0</td>\n      <td>0</td>\n      <td>0</td>\n      <td>0</td>\n      <td>0</td>\n      <td>0</td>\n      <td>0</td>\n      <td>0</td>\n      <td>0</td>\n      <td>0</td>\n    </tr>\n    <tr>\n      <th>4</th>\n      <td>123.0</td>\n      <td>2</td>\n      <td>1</td>\n      <td>1</td>\n      <td>1</td>\n      <td>233333.33</td>\n      <td>0</td>\n      <td>0</td>\n      <td>0</td>\n      <td>0</td>\n      <td>...</td>\n      <td>0</td>\n      <td>0</td>\n      <td>0</td>\n      <td>0</td>\n      <td>0</td>\n      <td>0</td>\n      <td>0</td>\n      <td>0</td>\n      <td>0</td>\n      <td>0</td>\n    </tr>\n    <tr>\n      <th>...</th>\n      <td>...</td>\n      <td>...</td>\n      <td>...</td>\n      <td>...</td>\n      <td>...</td>\n      <td>...</td>\n      <td>...</td>\n      <td>...</td>\n      <td>...</td>\n      <td>...</td>\n      <td>...</td>\n      <td>...</td>\n      <td>...</td>\n      <td>...</td>\n      <td>...</td>\n      <td>...</td>\n      <td>...</td>\n      <td>...</td>\n      <td>...</td>\n      <td>...</td>\n      <td>...</td>\n    </tr>\n    <tr>\n      <th>3473</th>\n      <td>63.0</td>\n      <td>1</td>\n      <td>1</td>\n      <td>1</td>\n      <td>0</td>\n      <td>63000.00</td>\n      <td>0</td>\n      <td>0</td>\n      <td>0</td>\n      <td>0</td>\n      <td>...</td>\n      <td>0</td>\n      <td>0</td>\n      <td>0</td>\n      <td>0</td>\n      <td>0</td>\n      <td>0</td>\n      <td>0</td>\n      <td>0</td>\n      <td>0</td>\n      <td>0</td>\n    </tr>\n    <tr>\n      <th>3474</th>\n      <td>86.0</td>\n      <td>2</td>\n      <td>1</td>\n      <td>1</td>\n      <td>1</td>\n      <td>116666.67</td>\n      <td>0</td>\n      <td>0</td>\n      <td>0</td>\n      <td>0</td>\n      <td>...</td>\n      <td>0</td>\n      <td>0</td>\n      <td>0</td>\n      <td>0</td>\n      <td>0</td>\n      <td>0</td>\n      <td>0</td>\n      <td>0</td>\n      <td>0</td>\n      <td>0</td>\n    </tr>\n    <tr>\n      <th>3475</th>\n      <td>83.0</td>\n      <td>2</td>\n      <td>1</td>\n      <td>1</td>\n      <td>1</td>\n      <td>226666.67</td>\n      <td>0</td>\n      <td>0</td>\n      <td>0</td>\n      <td>0</td>\n      <td>...</td>\n      <td>0</td>\n      <td>0</td>\n      <td>0</td>\n      <td>0</td>\n      <td>0</td>\n      <td>0</td>\n      <td>0</td>\n      <td>0</td>\n      <td>0</td>\n      <td>0</td>\n    </tr>\n    <tr>\n      <th>3477</th>\n      <td>105.0</td>\n      <td>2</td>\n      <td>1</td>\n      <td>1</td>\n      <td>1</td>\n      <td>186666.67</td>\n      <td>0</td>\n      <td>0</td>\n      <td>0</td>\n      <td>0</td>\n      <td>...</td>\n      <td>0</td>\n      <td>0</td>\n      <td>0</td>\n      <td>0</td>\n      <td>0</td>\n      <td>0</td>\n      <td>0</td>\n      <td>0</td>\n      <td>0</td>\n      <td>0</td>\n    </tr>\n    <tr>\n      <th>3478</th>\n      <td>82.0</td>\n      <td>2</td>\n      <td>0</td>\n      <td>1</td>\n      <td>1</td>\n      <td>12000.00</td>\n      <td>0</td>\n      <td>0</td>\n      <td>0</td>\n      <td>0</td>\n      <td>...</td>\n      <td>0</td>\n      <td>0</td>\n      <td>0</td>\n      <td>0</td>\n      <td>0</td>\n      <td>0</td>\n      <td>0</td>\n      <td>0</td>\n      <td>0</td>\n      <td>0</td>\n    </tr>\n  </tbody>\n</table>\n<p>3265 rows × 198 columns</p>\n</div>"
     },
     "execution_count": 29,
     "metadata": {},
     "output_type": "execute_result"
    }
   ],
   "source": [
    "house = pd.get_dummies(house, columns = ['Address'])\n",
    "house"
   ],
   "metadata": {
    "collapsed": false
   }
  },
  {
   "cell_type": "code",
   "execution_count": 30,
   "outputs": [
    {
     "data": {
      "text/plain": "Area                   0\nRoom                   0\nParking                0\nWarehouse              0\nElevator               0\n                      ..\nAddress_Yousef Abad    0\nAddress_Zafar          0\nAddress_Zaferanieh     0\nAddress_Zargandeh      0\nAddress_Zibadasht      0\nLength: 198, dtype: int64"
     },
     "execution_count": 30,
     "metadata": {},
     "output_type": "execute_result"
    }
   ],
   "source": [
    "house.isna().sum()"
   ],
   "metadata": {
    "collapsed": false
   }
  },
  {
   "cell_type": "code",
   "execution_count": 31,
   "outputs": [],
   "source": [
    "class MyGradientLinearRegression:\n",
    "    def __init__(self, fit_intercept=True, alpha=0.5):\n",
    "        self.fit_intercept = fit_intercept\n",
    "        self.alpha = alpha\n",
    "        self.w = None\n",
    "\n",
    "    def fit(self, X, y, lr=0.01, max_iter=100):\n",
    "        # Принимает на вход X, y и вычисляет веса по данной выборке\n",
    "        n, k = X.shape\n",
    "        # случайно инициализируем веса\n",
    "        if self.w is None:\n",
    "            self.w = np.random.randn(k + 1 if self.fit_intercept else k)\n",
    "        X_train_ = np.hstack((X, np.ones((n, 1)))) if self.fit_intercept else X\n",
    "\n",
    "        for iter_num in range(max_iter):\n",
    "            y_pred = X_train_ @ self.w\n",
    "            grad = self._calc_gradient(X_train_, y, y_pred)\n",
    "            assert grad.shape == self.w.shape, f\"gradient shape {grad.shape} is not equal weight shape {self.w.shape}\"\n",
    "            self.w -= lr * grad\n",
    "        return self\n",
    "\n",
    "    def _calc_gradient(self, X, y, y_pred):\n",
    "        grad = 2 * (y_pred - y)[:, np.newaxis] * X\n",
    "        grad = grad.mean(axis=0)\n",
    "        return grad\n",
    "\n",
    "    def predict(self, X):\n",
    "        # Принимает на вход X и возвращает ответы модели\n",
    "        n, k = X.shape\n",
    "        X_train_ = np.hstack((X, np.ones((n, 1)))) if self.fit_intercept else X\n",
    "        y_pred = X_train_ @ self.w\n",
    "        return y_pred"
   ],
   "metadata": {
    "collapsed": false
   }
  },
  {
   "cell_type": "code",
   "execution_count": 47,
   "outputs": [],
   "source": [
    "from sklearn.model_selection import train_test_split\n",
    "target_col = 'Price(USD)'\n",
    "\n",
    "X_train, X_test, y_train, y_test = train_test_split(house.iloc[:,house.columns!=target_col], house[target_col], test_size=0.2)"
   ],
   "metadata": {
    "collapsed": false
   }
  },
  {
   "cell_type": "code",
   "execution_count": 48,
   "outputs": [
    {
     "name": "stderr",
     "output_type": "stream",
     "text": [
      "C:\\Users\\Alexey\\AppData\\Local\\Temp\\ipykernel_10376\\3297582041.py:30: FutureWarning: Support for multi-dimensional indexing (e.g. `obj[:, None]`) is deprecated and will be removed in a future version.  Convert to a numpy array before indexing instead.\n",
      "  grad = 2 * (y_pred - y)[:, np.newaxis] * X\n"
     ]
    },
    {
     "data": {
      "text/plain": "Pipeline(steps=[('standardscaler', StandardScaler()),\n                ('mygradientlinearregression',\n                 <__main__.MyGradientLinearRegression object at 0x0000018C77948100>)])",
      "text/html": "<style>#sk-container-id-4 {color: black;background-color: white;}#sk-container-id-4 pre{padding: 0;}#sk-container-id-4 div.sk-toggleable {background-color: white;}#sk-container-id-4 label.sk-toggleable__label {cursor: pointer;display: block;width: 100%;margin-bottom: 0;padding: 0.3em;box-sizing: border-box;text-align: center;}#sk-container-id-4 label.sk-toggleable__label-arrow:before {content: \"▸\";float: left;margin-right: 0.25em;color: #696969;}#sk-container-id-4 label.sk-toggleable__label-arrow:hover:before {color: black;}#sk-container-id-4 div.sk-estimator:hover label.sk-toggleable__label-arrow:before {color: black;}#sk-container-id-4 div.sk-toggleable__content {max-height: 0;max-width: 0;overflow: hidden;text-align: left;background-color: #f0f8ff;}#sk-container-id-4 div.sk-toggleable__content pre {margin: 0.2em;color: black;border-radius: 0.25em;background-color: #f0f8ff;}#sk-container-id-4 input.sk-toggleable__control:checked~div.sk-toggleable__content {max-height: 200px;max-width: 100%;overflow: auto;}#sk-container-id-4 input.sk-toggleable__control:checked~label.sk-toggleable__label-arrow:before {content: \"▾\";}#sk-container-id-4 div.sk-estimator input.sk-toggleable__control:checked~label.sk-toggleable__label {background-color: #d4ebff;}#sk-container-id-4 div.sk-label input.sk-toggleable__control:checked~label.sk-toggleable__label {background-color: #d4ebff;}#sk-container-id-4 input.sk-hidden--visually {border: 0;clip: rect(1px 1px 1px 1px);clip: rect(1px, 1px, 1px, 1px);height: 1px;margin: -1px;overflow: hidden;padding: 0;position: absolute;width: 1px;}#sk-container-id-4 div.sk-estimator {font-family: monospace;background-color: #f0f8ff;border: 1px dotted black;border-radius: 0.25em;box-sizing: border-box;margin-bottom: 0.5em;}#sk-container-id-4 div.sk-estimator:hover {background-color: #d4ebff;}#sk-container-id-4 div.sk-parallel-item::after {content: \"\";width: 100%;border-bottom: 1px solid gray;flex-grow: 1;}#sk-container-id-4 div.sk-label:hover label.sk-toggleable__label {background-color: #d4ebff;}#sk-container-id-4 div.sk-serial::before {content: \"\";position: absolute;border-left: 1px solid gray;box-sizing: border-box;top: 0;bottom: 0;left: 50%;z-index: 0;}#sk-container-id-4 div.sk-serial {display: flex;flex-direction: column;align-items: center;background-color: white;padding-right: 0.2em;padding-left: 0.2em;position: relative;}#sk-container-id-4 div.sk-item {position: relative;z-index: 1;}#sk-container-id-4 div.sk-parallel {display: flex;align-items: stretch;justify-content: center;background-color: white;position: relative;}#sk-container-id-4 div.sk-item::before, #sk-container-id-4 div.sk-parallel-item::before {content: \"\";position: absolute;border-left: 1px solid gray;box-sizing: border-box;top: 0;bottom: 0;left: 50%;z-index: -1;}#sk-container-id-4 div.sk-parallel-item {display: flex;flex-direction: column;z-index: 1;position: relative;background-color: white;}#sk-container-id-4 div.sk-parallel-item:first-child::after {align-self: flex-end;width: 50%;}#sk-container-id-4 div.sk-parallel-item:last-child::after {align-self: flex-start;width: 50%;}#sk-container-id-4 div.sk-parallel-item:only-child::after {width: 0;}#sk-container-id-4 div.sk-dashed-wrapped {border: 1px dashed gray;margin: 0 0.4em 0.5em 0.4em;box-sizing: border-box;padding-bottom: 0.4em;background-color: white;}#sk-container-id-4 div.sk-label label {font-family: monospace;font-weight: bold;display: inline-block;line-height: 1.2em;}#sk-container-id-4 div.sk-label-container {text-align: center;}#sk-container-id-4 div.sk-container {/* jupyter's `normalize.less` sets `[hidden] { display: none; }` but bootstrap.min.css set `[hidden] { display: none !important; }` so we also need the `!important` here to be able to override the default hidden behavior on the sphinx rendered scikit-learn.org. See: https://github.com/scikit-learn/scikit-learn/issues/21755 */display: inline-block !important;position: relative;}#sk-container-id-4 div.sk-text-repr-fallback {display: none;}</style><div id=\"sk-container-id-4\" class=\"sk-top-container\"><div class=\"sk-text-repr-fallback\"><pre>Pipeline(steps=[(&#x27;standardscaler&#x27;, StandardScaler()),\n                (&#x27;mygradientlinearregression&#x27;,\n                 &lt;__main__.MyGradientLinearRegression object at 0x0000018C77948100&gt;)])</pre><b>In a Jupyter environment, please rerun this cell to show the HTML representation or trust the notebook. <br />On GitHub, the HTML representation is unable to render, please try loading this page with nbviewer.org.</b></div><div class=\"sk-container\" hidden><div class=\"sk-item sk-dashed-wrapped\"><div class=\"sk-label-container\"><div class=\"sk-label sk-toggleable\"><input class=\"sk-toggleable__control sk-hidden--visually\" id=\"sk-estimator-id-8\" type=\"checkbox\" ><label for=\"sk-estimator-id-8\" class=\"sk-toggleable__label sk-toggleable__label-arrow\">Pipeline</label><div class=\"sk-toggleable__content\"><pre>Pipeline(steps=[(&#x27;standardscaler&#x27;, StandardScaler()),\n                (&#x27;mygradientlinearregression&#x27;,\n                 &lt;__main__.MyGradientLinearRegression object at 0x0000018C77948100&gt;)])</pre></div></div></div><div class=\"sk-serial\"><div class=\"sk-item\"><div class=\"sk-estimator sk-toggleable\"><input class=\"sk-toggleable__control sk-hidden--visually\" id=\"sk-estimator-id-9\" type=\"checkbox\" ><label for=\"sk-estimator-id-9\" class=\"sk-toggleable__label sk-toggleable__label-arrow\">StandardScaler</label><div class=\"sk-toggleable__content\"><pre>StandardScaler()</pre></div></div></div><div class=\"sk-item\"><div class=\"sk-estimator sk-toggleable\"><input class=\"sk-toggleable__control sk-hidden--visually\" id=\"sk-estimator-id-10\" type=\"checkbox\" ><label for=\"sk-estimator-id-10\" class=\"sk-toggleable__label sk-toggleable__label-arrow\">MyGradientLinearRegression</label><div class=\"sk-toggleable__content\"><pre>&lt;__main__.MyGradientLinearRegression object at 0x0000018C77948100&gt;</pre></div></div></div></div></div></div></div>"
     },
     "execution_count": 48,
     "metadata": {},
     "output_type": "execute_result"
    }
   ],
   "source": [
    "from sklearn.pipeline import make_pipeline\n",
    "from sklearn.preprocessing import StandardScaler\n",
    "\n",
    "model = make_pipeline(StandardScaler(), MyGradientLinearRegression(fit_intercept=True, alpha=0.5))\n",
    "model.fit(X_train, y_train)"
   ],
   "metadata": {
    "collapsed": false
   }
  },
  {
   "cell_type": "code",
   "execution_count": 49,
   "outputs": [
    {
     "data": {
      "text/plain": "0.575761041747916"
     },
     "execution_count": 49,
     "metadata": {},
     "output_type": "execute_result"
    }
   ],
   "source": [
    "r2_score(y_test, model.predict(X_test))"
   ],
   "metadata": {
    "collapsed": false
   }
  },
  {
   "cell_type": "code",
   "execution_count": 36,
   "outputs": [
    {
     "data": {
      "text/plain": "array([ 9.03837240e+04,  4.85497470e+04,  2.83666483e+03,  2.61380376e+03,\n       -1.50096421e+03,  4.62639865e+03, -3.41881329e+02, -2.04956909e+04,\n       -1.72229291e+02, -2.83760500e+03, -4.16206923e+02, -3.01439156e+03,\n        9.21502955e+03,  3.25451073e-01, -2.03576271e+03, -6.84383036e+01,\n       -4.05502446e+03, -4.37242700e+03, -1.69349849e+04,  2.08778217e+04,\n        3.59289596e+03,  1.31538517e+00, -3.34429640e+03, -2.61526190e+03,\n       -4.41974932e+03, -1.59533451e+03, -5.47477641e+03, -1.55716872e+03,\n       -1.88746612e+03, -3.78591140e+03,  5.01982479e-01, -5.33459928e+03,\n       -1.62245128e+03, -3.02735414e+03, -2.74874716e-01,  1.32790106e+03,\n       -1.86166555e+04,  6.41303711e+02, -9.00887565e+02,  3.81594631e-01,\n       -2.58961767e+03, -3.42991992e+03,  3.64891869e+03, -1.90044173e+03,\n        8.07762196e+03, -4.62257100e+03, -2.38610496e+03,  1.83698383e+01,\n        8.45804982e+03,  3.37493595e+04, -1.33041776e+03,  3.59636498e-01,\n       -2.51645003e+03, -3.95808521e+02, -2.18607427e+03,  3.43534664e+04,\n       -1.72203201e+03, -4.11960101e+03, -2.32436900e+03, -2.33131025e+03,\n        2.19388729e+04, -4.58517490e+02,  1.37187140e+04, -3.70916232e-01,\n        3.15193580e+02,  1.48616825e+03,  4.59990676e+02, -7.29037165e+03,\n       -2.20371386e+03, -1.89707053e+03, -1.98276334e+03, -1.06887285e+03,\n        1.57423486e+03,  7.35462590e+02, -2.36075448e+03, -2.61099902e+03,\n       -9.80136204e+03, -2.52493371e+03, -2.29954379e+03, -9.38121624e+03,\n        1.33005532e+02, -6.66776039e+03,  1.03850895e+04, -1.49835047e+03,\n       -2.62284007e+03, -9.43223811e+02, -2.72894084e+03, -2.61427581e+03,\n       -6.04559432e+02, -2.15790738e+03, -2.43659477e+03, -2.89616746e+02,\n        2.86441198e+04, -5.50766886e+02, -6.11539201e+02,  1.34554780e+04,\n       -2.73834375e+03, -1.80373016e+03,  1.88367792e+03, -1.67747447e+03,\n       -1.41979667e+03, -1.28750541e+03,  6.13808404e+03, -7.36552312e+02,\n       -2.43595695e+03, -4.92312973e+02, -3.56645192e+03, -1.45935067e+03,\n       -4.02147331e+01, -2.66673107e+03,  3.75704510e+04,  3.82163174e+02,\n       -6.51187237e+03, -2.74195670e+03, -6.22226766e+02, -2.49121379e+03,\n       -7.02251217e+03,  2.55528092e+03, -1.05865764e+04, -9.78130443e-01,\n       -1.98336410e+04, -1.27793938e+03, -2.54183419e+04,  5.75408404e+03,\n       -1.61317050e+04, -5.90463959e+03, -1.92608896e+03, -7.32741713e+03,\n       -4.40349192e+02, -2.11907162e+03, -3.22418162e+03, -6.01928819e+03,\n       -3.68345389e+03, -3.71488238e+03, -1.71950897e+02, -5.07343218e-01,\n       -5.23813370e+03, -1.82254004e+03, -9.58469778e+02, -7.55765880e+03,\n        9.83089576e+03, -2.41165902e+03, -2.27165223e+03, -3.61963417e+03,\n        1.03422803e+00, -2.54691845e+03, -6.93430929e+03, -2.48848391e+03,\n       -2.14620514e+02, -9.27695846e+02, -5.27325354e+03, -8.43140933e+03,\n       -2.24527924e+03, -1.40126166e+03, -2.27801484e-01,  1.48533271e+04,\n        7.93963613e-01, -1.49549102e+04, -5.08262383e+03, -2.00351678e+03,\n       -1.32391603e+02, -8.19185387e+03, -5.65458512e+03, -1.08390410e+03,\n       -1.98872819e+03, -4.41890571e+03, -5.07629968e+02, -4.77070682e+03,\n       -6.75533968e+03, -1.78083546e+03, -3.07466265e+02,  1.13032218e+04,\n       -3.09845289e+03, -1.79253357e+03, -2.33540883e+03, -2.69323189e+03,\n       -1.86810304e+03, -3.58314516e+03, -1.26893156e+00, -1.62328807e+02,\n       -3.07814453e+03, -3.32988562e+03,  1.33725445e+04, -1.61422467e+04,\n        2.41215750e+04, -6.09318533e+02, -1.92729578e+03, -6.32100165e+02,\n       -5.62771504e+03, -2.92366128e+03, -2.07316898e+03, -1.55392327e+03,\n       -7.76780931e+01,  2.06133384e+02,  2.68272361e+04,  4.68451313e+02,\n       -8.70707799e+02,  1.34425815e+05])"
     },
     "execution_count": 36,
     "metadata": {},
     "output_type": "execute_result"
    }
   ],
   "source": [
    "model.get_params()['mygradientlinearregression'].w"
   ],
   "metadata": {
    "collapsed": false
   }
  },
  {
   "cell_type": "code",
   "execution_count": 38,
   "outputs": [
    {
     "data": {
      "text/plain": "134425.81520557182"
     },
     "execution_count": 38,
     "metadata": {},
     "output_type": "execute_result"
    }
   ],
   "source": [
    "model.get_params()['mygradientlinearregression'].w[-1]"
   ],
   "metadata": {
    "collapsed": false
   }
  }
 ],
 "metadata": {
  "kernelspec": {
   "display_name": "Python 3",
   "language": "python",
   "name": "python3"
  },
  "language_info": {
   "codemirror_mode": {
    "name": "ipython",
    "version": 2
   },
   "file_extension": ".py",
   "mimetype": "text/x-python",
   "name": "python",
   "nbconvert_exporter": "python",
   "pygments_lexer": "ipython2",
   "version": "2.7.6"
  }
 },
 "nbformat": 4,
 "nbformat_minor": 0
}
